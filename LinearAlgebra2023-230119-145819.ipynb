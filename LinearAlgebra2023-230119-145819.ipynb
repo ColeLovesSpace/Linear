{
 "cells": [
  {
   "cell_type": "code",
   "execution_count": 1,
   "id": "restricted-twist",
   "metadata": {},
   "outputs": [
    {
     "name": "stdout",
     "output_type": "stream",
     "text": [
      "Julia Version 1.8.5\n",
      "Commit 17cfb8e65ea (2023-01-08 06:45 UTC)\n",
      "Platform Info:\n",
      "  OS: Linux (x86_64-linux-gnu)\n",
      "  CPU: 80 × Intel(R) Xeon(R) Gold 6148 CPU @ 2.40GHz\n",
      "  WORD_SIZE: 64\n",
      "  LIBM: libopenlibm\n",
      "  LLVM: libLLVM-13.0.1 (ORCJIT, skylake-avx512)\n",
      "  Threads: 1 on 80 virtual cores\n",
      "Environment:\n",
      "  LD_LIBRARY_PATH = /cm/shared/apps/slurm/19.05.8/lib64/slurm:/cm/shared/apps/slurm/19.05.8/lib64\n",
      "  LD_LIBRARY_PATH_modshare = /cm/shared/apps/slurm/19.05.8/lib64:1:/cm/shared/apps/slurm/19.05.8/lib64/slurm:1\n"
     ]
    }
   ],
   "source": [
    "versioninfo()"
   ]
  },
  {
   "cell_type": "markdown",
   "id": "advanced-genius",
   "metadata": {},
   "source": [
    "# Linear Algebra"
   ]
  },
  {
   "cell_type": "markdown",
   "id": "atlantic-progress",
   "metadata": {},
   "source": [
    "## Vectors and Matrices"
   ]
  },
  {
   "cell_type": "code",
   "execution_count": 2,
   "id": "centered-municipality",
   "metadata": {},
   "outputs": [
    {
     "data": {
      "text/plain": [
       "3-element Vector{Int64}:\n",
       " 1\n",
       " 2\n",
       " 3"
      ]
     },
     "execution_count": 2,
     "metadata": {},
     "output_type": "execute_result"
    }
   ],
   "source": [
    "x = [1, 2, 3]"
   ]
  },
  {
   "cell_type": "code",
   "execution_count": 3,
   "id": "assigned-lightning",
   "metadata": {},
   "outputs": [
    {
     "data": {
      "text/plain": [
       "4-element Vector{Float64}:\n",
       " 0.0\n",
       " 0.0\n",
       " 0.0\n",
       " 0.0"
      ]
     },
     "execution_count": 3,
     "metadata": {},
     "output_type": "execute_result"
    }
   ],
   "source": [
    "x = zeros(4)"
   ]
  },
  {
   "cell_type": "code",
   "execution_count": 4,
   "id": "thousand-sperm",
   "metadata": {},
   "outputs": [
    {
     "data": {
      "text/plain": [
       "4-element Vector{Float64}:\n",
       " 1.0\n",
       " 1.0\n",
       " 1.0\n",
       " 1.0"
      ]
     },
     "execution_count": 4,
     "metadata": {},
     "output_type": "execute_result"
    }
   ],
   "source": [
    "x = ones(4)"
   ]
  },
  {
   "cell_type": "code",
   "execution_count": 5,
   "id": "modern-watershed",
   "metadata": {},
   "outputs": [
    {
     "data": {
      "text/plain": [
       "4-element Vector{Int64}:\n",
       " 2\n",
       " 2\n",
       " 2\n",
       " 2"
      ]
     },
     "execution_count": 5,
     "metadata": {},
     "output_type": "execute_result"
    }
   ],
   "source": [
    "x = fill(2, 4)"
   ]
  },
  {
   "cell_type": "code",
   "execution_count": 6,
   "id": "legitimate-might",
   "metadata": {},
   "outputs": [
    {
     "data": {
      "text/plain": [
       "4-element Vector{Float64}:\n",
       " 0.05872377987996846\n",
       " 0.7382417179237523\n",
       " 0.055602983406921935\n",
       " 0.41802712928295216"
      ]
     },
     "execution_count": 6,
     "metadata": {},
     "output_type": "execute_result"
    }
   ],
   "source": [
    "x = rand(4)"
   ]
  },
  {
   "cell_type": "code",
   "execution_count": 7,
   "id": "right-equation",
   "metadata": {},
   "outputs": [
    {
     "data": {
      "text/plain": [
       "4-element Vector{Float64}:\n",
       " -0.6413524963482176\n",
       "  0.8124351535237249\n",
       "  1.106727011759173\n",
       " -0.04196788455593918"
      ]
     },
     "execution_count": 7,
     "metadata": {},
     "output_type": "execute_result"
    }
   ],
   "source": [
    "x = randn(4)"
   ]
  },
  {
   "cell_type": "code",
   "execution_count": 8,
   "id": "reliable-maria",
   "metadata": {},
   "outputs": [
    {
     "data": {
      "text/plain": [
       "10-element Vector{Float64}:\n",
       "  1.456397278979576\n",
       " -1.234769308046188\n",
       " -1.1585689715893084\n",
       "  0.5360179352669974\n",
       "  0.18600559155443305\n",
       "  0.391844433849708\n",
       "  1.3352225710423682\n",
       " -1.8704170376120062\n",
       "  0.36127418097056624\n",
       "  0.7174534600101058"
      ]
     },
     "execution_count": 8,
     "metadata": {},
     "output_type": "execute_result"
    }
   ],
   "source": [
    "x = randn(10)"
   ]
  },
  {
   "cell_type": "code",
   "execution_count": 9,
   "id": "accurate-providence",
   "metadata": {},
   "outputs": [
    {
     "data": {
      "text/plain": [
       "3×2 Matrix{Int64}:\n",
       " 1  2\n",
       " 3  4\n",
       " 5  6"
      ]
     },
     "execution_count": 9,
     "metadata": {},
     "output_type": "execute_result"
    }
   ],
   "source": [
    "A = [1 2; 3 4; 5 6]"
   ]
  },
  {
   "cell_type": "code",
   "execution_count": 10,
   "id": "atlantic-moscow",
   "metadata": {},
   "outputs": [
    {
     "data": {
      "text/plain": [
       "4×4 Matrix{Float64}:\n",
       " 0.0  0.0  0.0  0.0\n",
       " 0.0  0.0  0.0  0.0\n",
       " 0.0  0.0  0.0  0.0\n",
       " 0.0  0.0  0.0  0.0"
      ]
     },
     "execution_count": 10,
     "metadata": {},
     "output_type": "execute_result"
    }
   ],
   "source": [
    "A = zeros(4, 4)"
   ]
  },
  {
   "cell_type": "code",
   "execution_count": 11,
   "id": "likely-input",
   "metadata": {},
   "outputs": [],
   "source": [
    "using LinearAlgebra"
   ]
  },
  {
   "cell_type": "code",
   "execution_count": 12,
   "id": "north-pastor",
   "metadata": {},
   "outputs": [
    {
     "data": {
      "text/plain": [
       "4×4 Matrix{Float64}:\n",
       " 1.0  0.0  0.0  0.0\n",
       " 0.0  1.0  0.0  0.0\n",
       " 0.0  0.0  1.0  0.0\n",
       " 0.0  0.0  0.0  1.0"
      ]
     },
     "execution_count": 12,
     "metadata": {},
     "output_type": "execute_result"
    }
   ],
   "source": [
    "A + I"
   ]
  },
  {
   "cell_type": "markdown",
   "id": "loaded-knife",
   "metadata": {},
   "source": [
    "`I` is the identity matrix"
   ]
  },
  {
   "cell_type": "code",
   "execution_count": 13,
   "id": "portable-powder",
   "metadata": {},
   "outputs": [
    {
     "data": {
      "text/plain": [
       "UniformScaling{Bool}"
      ]
     },
     "execution_count": 13,
     "metadata": {},
     "output_type": "execute_result"
    }
   ],
   "source": [
    "typeof(I)"
   ]
  },
  {
   "cell_type": "code",
   "execution_count": 14,
   "id": "reasonable-municipality",
   "metadata": {},
   "outputs": [
    {
     "data": {
      "text/plain": [
       "10×10 Matrix{Float64}:\n",
       " -0.215616    2.84276    1.52332      …   0.0846442  -0.870649  -1.16223\n",
       "  1.70084    -0.429761   0.321637         0.236268    0.34408    0.945413\n",
       "  0.538355    0.613088  -1.07568         -0.888946   -1.61991   -1.37272\n",
       " -1.06411     2.14757    0.975868         1.6174      0.4008    -1.42881\n",
       "  0.567248   -1.63983    0.359231         0.119521   -0.604175   0.964193\n",
       " -0.0527969  -0.311561   0.0145758    …   1.68676     0.105555   1.4698\n",
       "  0.326927    0.562089   0.198088        -0.177654    0.186475  -0.187463\n",
       "  1.94358     1.71011   -0.000857477      1.23853    -1.28336   -1.25694\n",
       "  0.154311    1.54749    1.49545          0.278938   -0.114487   2.1613\n",
       "  0.190767   -1.00621   -1.29243          0.0326661  -0.878542  -0.727134"
      ]
     },
     "execution_count": 14,
     "metadata": {},
     "output_type": "execute_result"
    }
   ],
   "source": [
    "A = randn(10, 10)"
   ]
  },
  {
   "cell_type": "code",
   "execution_count": 15,
   "id": "decimal-illustration",
   "metadata": {},
   "outputs": [
    {
     "data": {
      "text/plain": [
       "10-element Vector{Float64}:\n",
       " -7.589066181331697\n",
       "  3.1616056789904885\n",
       " -2.3054937970686273\n",
       " -8.929672697276898\n",
       "  4.020199565721771\n",
       " -2.191182263627267\n",
       " -0.2641023949755267\n",
       " -1.8934532147192744\n",
       " -3.4270909249500385\n",
       "  4.883339307706483"
      ]
     },
     "execution_count": 15,
     "metadata": {},
     "output_type": "execute_result"
    }
   ],
   "source": [
    "A * x"
   ]
  },
  {
   "cell_type": "code",
   "execution_count": 16,
   "id": "suited-youth",
   "metadata": {},
   "outputs": [
    {
     "ename": "LoadError",
     "evalue": "DimensionMismatch: A has dimensions (10,1) but B has dimensions (10,10)",
     "output_type": "error",
     "traceback": [
      "DimensionMismatch: A has dimensions (10,1) but B has dimensions (10,10)",
      "",
      "Stacktrace:",
      " [1] gemm_wrapper!(C::Matrix{Float64}, tA::Char, tB::Char, A::Matrix{Float64}, B::Matrix{Float64}, _add::LinearAlgebra.MulAddMul{true, true, Bool, Bool})",
      "   @ LinearAlgebra ~/.julia/juliaup/julia-1.8.5+0.x64.linux.gnu/share/julia/stdlib/v1.8/LinearAlgebra/src/matmul.jl:646",
      " [2] mul!",
      "   @ ~/.julia/juliaup/julia-1.8.5+0.x64.linux.gnu/share/julia/stdlib/v1.8/LinearAlgebra/src/matmul.jl:161 [inlined]",
      " [3] mul!",
      "   @ ~/.julia/juliaup/julia-1.8.5+0.x64.linux.gnu/share/julia/stdlib/v1.8/LinearAlgebra/src/matmul.jl:276 [inlined]",
      " [4] *",
      "   @ ~/.julia/juliaup/julia-1.8.5+0.x64.linux.gnu/share/julia/stdlib/v1.8/LinearAlgebra/src/matmul.jl:148 [inlined]",
      " [5] *(a::Vector{Float64}, B::Matrix{Float64})",
      "   @ LinearAlgebra ~/.julia/juliaup/julia-1.8.5+0.x64.linux.gnu/share/julia/stdlib/v1.8/LinearAlgebra/src/matmul.jl:62",
      " [6] top-level scope",
      "   @ In[16]:1"
     ]
    }
   ],
   "source": [
    "x * A"
   ]
  },
  {
   "cell_type": "code",
   "execution_count": 17,
   "id": "fatal-unknown",
   "metadata": {},
   "outputs": [
    {
     "data": {
      "text/plain": [
       "1×10 adjoint(::Vector{Float64}) with eltype Float64:\n",
       " -6.52962  2.07363  3.54238  2.38626  …  -0.0179804  2.30545  1.07961"
      ]
     },
     "execution_count": 17,
     "metadata": {},
     "output_type": "execute_result"
    }
   ],
   "source": [
    "x' * A"
   ]
  },
  {
   "cell_type": "markdown",
   "id": "complex-holocaust",
   "metadata": {},
   "source": [
    "`'`is the transpose"
   ]
  },
  {
   "cell_type": "code",
   "execution_count": 18,
   "id": "greater-architect",
   "metadata": {},
   "outputs": [
    {
     "data": {
      "text/plain": [
       "10×10 transpose(::Matrix{Float64}) with eltype Float64:\n",
       " -0.215616    1.70084     0.538355  …   1.94358       0.154311   0.190767\n",
       "  2.84276    -0.429761    0.613088      1.71011       1.54749   -1.00621\n",
       "  1.52332     0.321637   -1.07568      -0.000857477   1.49545   -1.29243\n",
       " -0.610338   -1.27221    -2.75142       0.0883784     0.488929  -0.120705\n",
       " -0.11605    -0.266658    0.302813     -0.474778      0.656373  -0.160339\n",
       " -0.505849    0.0317595  -0.497315  …   0.108504      0.552021   1.10207\n",
       " -0.109617    0.662735   -1.54134       0.799074     -1.19566    1.81884\n",
       "  0.0846442   0.236268   -0.888946      1.23853       0.278938   0.0326661\n",
       " -0.870649    0.34408    -1.61991      -1.28336      -0.114487  -0.878542\n",
       " -1.16223     0.945413   -1.37272      -1.25694       2.1613    -0.727134"
      ]
     },
     "execution_count": 18,
     "metadata": {},
     "output_type": "execute_result"
    }
   ],
   "source": [
    "transpose(A)"
   ]
  },
  {
   "cell_type": "code",
   "execution_count": 19,
   "id": "fresh-senator",
   "metadata": {},
   "outputs": [
    {
     "data": {
      "text/plain": [
       "10-element Vector{Float64}:\n",
       "  1.7168962785395152\n",
       "  0.3442702014016139\n",
       "  0.8366762326618137\n",
       " -0.9250479232856191\n",
       "  1.5466251105201574\n",
       "  0.23099966610668507\n",
       "  0.9741443483154738\n",
       "  1.2049946145203345\n",
       "  1.4480571975965146\n",
       " -0.7923698952804535"
      ]
     },
     "execution_count": 19,
     "metadata": {},
     "output_type": "execute_result"
    }
   ],
   "source": [
    "y = randn(10)"
   ]
  },
  {
   "cell_type": "code",
   "execution_count": 20,
   "id": "saving-currency",
   "metadata": {},
   "outputs": [
    {
     "data": {
      "text/plain": [
       "-11.269099832992316"
      ]
     },
     "execution_count": 20,
     "metadata": {},
     "output_type": "execute_result"
    }
   ],
   "source": [
    "y' * A * x"
   ]
  },
  {
   "cell_type": "code",
   "execution_count": 21,
   "id": "ahead-bottom",
   "metadata": {},
   "outputs": [
    {
     "data": {
      "text/plain": [
       "0.29599801314047486"
      ]
     },
     "execution_count": 21,
     "metadata": {},
     "output_type": "execute_result"
    }
   ],
   "source": [
    "y[1] * A[2, 3] * x[4]"
   ]
  },
  {
   "cell_type": "code",
   "execution_count": 22,
   "id": "brilliant-mention",
   "metadata": {},
   "outputs": [
    {
     "data": {
      "text/plain": [
       "Vector{Float64}\u001b[90m (alias for \u001b[39m\u001b[90mArray{Float64, 1}\u001b[39m\u001b[90m)\u001b[39m"
      ]
     },
     "execution_count": 22,
     "metadata": {},
     "output_type": "execute_result"
    }
   ],
   "source": [
    "typeof(x)"
   ]
  },
  {
   "cell_type": "code",
   "execution_count": 23,
   "id": "canadian-avatar",
   "metadata": {},
   "outputs": [
    {
     "data": {
      "text/plain": [
       "Adjoint{Float64, Vector{Float64}}"
      ]
     },
     "execution_count": 23,
     "metadata": {},
     "output_type": "execute_result"
    }
   ],
   "source": [
    "typeof(x')"
   ]
  },
  {
   "cell_type": "code",
   "execution_count": 24,
   "id": "unexpected-praise",
   "metadata": {},
   "outputs": [
    {
     "data": {
      "text/plain": [
       "Vector{Float64}\u001b[90m (alias for \u001b[39m\u001b[90mArray{Float64, 1}\u001b[39m\u001b[90m)\u001b[39m"
      ]
     },
     "execution_count": 24,
     "metadata": {},
     "output_type": "execute_result"
    }
   ],
   "source": [
    "typeof(x'')"
   ]
  },
  {
   "cell_type": "code",
   "execution_count": 25,
   "id": "handy-spencer",
   "metadata": {},
   "outputs": [
    {
     "data": {
      "text/plain": [
       "2×2×2 Array{Int64, 3}:\n",
       "[:, :, 1] =\n",
       " 1  3\n",
       " 2  4\n",
       "\n",
       "[:, :, 2] =\n",
       " 5  7\n",
       " 6  8"
      ]
     },
     "execution_count": 25,
     "metadata": {},
     "output_type": "execute_result"
    }
   ],
   "source": [
    "M = [1;2;; 3;4;;; 5;6;; 7;8]"
   ]
  },
  {
   "cell_type": "code",
   "execution_count": 26,
   "id": "ranking-doctor",
   "metadata": {},
   "outputs": [
    {
     "data": {
      "text/plain": [
       "4×2 Matrix{Int64}:\n",
       " 1  5\n",
       " 2  6\n",
       " 3  7\n",
       " 4  8"
      ]
     },
     "execution_count": 26,
     "metadata": {},
     "output_type": "execute_result"
    }
   ],
   "source": [
    "reshape(M, (4,2))"
   ]
  },
  {
   "cell_type": "code",
   "execution_count": 27,
   "id": "ideal-stewart",
   "metadata": {},
   "outputs": [
    {
     "data": {
      "text/plain": [
       "2×4 Matrix{Int64}:\n",
       " 1  3  5  7\n",
       " 2  4  6  8"
      ]
     },
     "execution_count": 27,
     "metadata": {},
     "output_type": "execute_result"
    }
   ],
   "source": [
    "reshape(M, (2,4))"
   ]
  },
  {
   "cell_type": "code",
   "execution_count": 28,
   "id": "rural-cedar",
   "metadata": {},
   "outputs": [
    {
     "data": {
      "text/plain": [
       "100-element Vector{Float64}:\n",
       " -0.2156155144909075\n",
       "  1.700836307360281\n",
       "  0.5383552303090214\n",
       " -1.0641124665496406\n",
       "  0.5672484378785738\n",
       " -0.052796884146976836\n",
       "  0.32692741584939194\n",
       "  1.9435847899068235\n",
       "  0.15431051986200553\n",
       "  0.19076742872546087\n",
       "  2.842758957511103\n",
       " -0.42976068584451127\n",
       "  0.6130882055111129\n",
       "  ⋮\n",
       " -0.11448739947581711\n",
       " -0.8785423132764659\n",
       " -1.162226051025465\n",
       "  0.9454125301367104\n",
       " -1.3727185200538567\n",
       " -1.4288072832279741\n",
       "  0.964192802595294\n",
       "  1.46980178402638\n",
       " -0.18746258469529833\n",
       " -1.2569407982276775\n",
       "  2.161300772521143\n",
       " -0.7271339892512577"
      ]
     },
     "execution_count": 28,
     "metadata": {},
     "output_type": "execute_result"
    }
   ],
   "source": [
    "Avec = reshape(A, 100)"
   ]
  },
  {
   "cell_type": "code",
   "execution_count": 29,
   "id": "assigned-swimming",
   "metadata": {},
   "outputs": [
    {
     "data": {
      "text/plain": [
       "true"
      ]
     },
     "execution_count": 29,
     "metadata": {},
     "output_type": "execute_result"
    }
   ],
   "source": [
    "reshape(Avec, (10, 10)) == A"
   ]
  },
  {
   "cell_type": "markdown",
   "id": "received-fifty",
   "metadata": {},
   "source": [
    "## Matrix types"
   ]
  },
  {
   "cell_type": "markdown",
   "id": "fifth-regression",
   "metadata": {},
   "source": [
    "- dense (full)\n",
    "- symmetric\n",
    "- triangular\n",
    "- diagonal\n",
    "- bi-, tri-diagonal\n",
    "- sparse"
   ]
  },
  {
   "cell_type": "code",
   "execution_count": 30,
   "id": "developing-airfare",
   "metadata": {},
   "outputs": [
    {
     "data": {
      "text/plain": [
       "10×10 Symmetric{Float64, Matrix{Float64}}:\n",
       " -0.215616    2.84276     1.52332   …   0.0846442  -0.870649  -1.16223\n",
       "  2.84276    -0.429761    0.321637      0.236268    0.34408    0.945413\n",
       "  1.52332     0.321637   -1.07568      -0.888946   -1.61991   -1.37272\n",
       " -0.610338   -1.27221    -2.75142       1.6174      0.4008    -1.42881\n",
       " -0.11605    -0.266658    0.302813      0.119521   -0.604175   0.964193\n",
       " -0.505849    0.0317595  -0.497315  …   1.68676     0.105555   1.4698\n",
       " -0.109617    0.662735   -1.54134      -0.177654    0.186475  -0.187463\n",
       "  0.0846442   0.236268   -0.888946      1.23853    -1.28336   -1.25694\n",
       " -0.870649    0.34408    -1.61991      -1.28336    -0.114487   2.1613\n",
       " -1.16223     0.945413   -1.37272      -1.25694     2.1613    -0.727134"
      ]
     },
     "execution_count": 30,
     "metadata": {},
     "output_type": "execute_result"
    }
   ],
   "source": [
    "Symmetric(A)"
   ]
  },
  {
   "cell_type": "code",
   "execution_count": 31,
   "id": "disturbed-colonial",
   "metadata": {},
   "outputs": [
    {
     "data": {
      "text/plain": [
       "10×10 Matrix{Float64}:\n",
       "  0.0        0.0        0.0        …   0.0        0.0      0.0      0.0\n",
       "  1.14192    0.0        0.0            0.0        0.0      0.0      0.0\n",
       "  0.984964  -0.291452   0.0            0.0        0.0      0.0      0.0\n",
       "  0.453774  -3.41978   -3.72729        0.0        0.0      0.0      0.0\n",
       " -0.683299   1.37317   -0.0564181      0.0        0.0      0.0      0.0\n",
       " -0.453052   0.343321  -0.51189    …   0.0        0.0      0.0      0.0\n",
       " -0.436545   0.100646  -1.73943        0.0        0.0      0.0      0.0\n",
       " -1.85894   -1.47384   -0.888089      -0.976727   0.0      0.0      0.0\n",
       " -1.02496   -1.20341   -3.11536        1.38213   -1.5623   0.0      0.0\n",
       " -1.35299    1.95162   -0.0802846     -2.00631   -1.28961  3.03984  0.0"
      ]
     },
     "execution_count": 31,
     "metadata": {},
     "output_type": "execute_result"
    }
   ],
   "source": [
    "Symmetric(A) - A"
   ]
  },
  {
   "cell_type": "code",
   "execution_count": 32,
   "id": "floppy-sheet",
   "metadata": {},
   "outputs": [
    {
     "data": {
      "text/plain": [
       "10×10 Symmetric{Float64, Matrix{Float64}}:\n",
       " -0.431231   4.5436      2.06167   …   2.02823   -0.716338   -0.971459\n",
       "  4.5436    -0.859521    0.934725      1.94638    1.89157    -0.0607953\n",
       "  2.06167    0.934725   -2.15136      -0.889804  -0.124455   -2.66515\n",
       " -1.67445    0.875367   -1.77555       1.70578    0.889729   -1.54951\n",
       "  0.451198  -1.90649     0.662043     -0.355257   0.0521981   0.803854\n",
       " -0.558646  -0.279802   -0.482739  …   1.79526    0.657576    2.57187\n",
       "  0.21731    1.22482    -1.34325       0.62142   -1.00918     1.63138\n",
       "  2.02823    1.94638    -0.889804      2.47706   -1.00442    -1.22427\n",
       " -0.716338   1.89157    -0.124455     -1.00442   -0.228975    1.28276\n",
       " -0.971459  -0.0607953  -2.66515      -1.22427    1.28276    -1.45427"
      ]
     },
     "execution_count": 32,
     "metadata": {},
     "output_type": "execute_result"
    }
   ],
   "source": [
    "Symmetric(A + A')"
   ]
  },
  {
   "cell_type": "code",
   "execution_count": 33,
   "id": "broke-modification",
   "metadata": {},
   "outputs": [
    {
     "data": {
      "text/plain": [
       "10×10 Diagonal{Float64, Vector{Float64}}:\n",
       " 1.12375    ⋅         ⋅       ⋅        …    ⋅          ⋅        ⋅ \n",
       "  ⋅       -0.470012   ⋅       ⋅             ⋅          ⋅        ⋅ \n",
       "  ⋅         ⋅        1.7962   ⋅             ⋅          ⋅        ⋅ \n",
       "  ⋅         ⋅         ⋅      0.527894       ⋅          ⋅        ⋅ \n",
       "  ⋅         ⋅         ⋅       ⋅             ⋅          ⋅        ⋅ \n",
       "  ⋅         ⋅         ⋅       ⋅        …    ⋅          ⋅        ⋅ \n",
       "  ⋅         ⋅         ⋅       ⋅             ⋅          ⋅        ⋅ \n",
       "  ⋅         ⋅         ⋅       ⋅           -0.989262    ⋅        ⋅ \n",
       "  ⋅         ⋅         ⋅       ⋅             ⋅        -0.85942   ⋅ \n",
       "  ⋅         ⋅         ⋅       ⋅             ⋅          ⋅       0.4533"
      ]
     },
     "execution_count": 33,
     "metadata": {},
     "output_type": "execute_result"
    }
   ],
   "source": [
    "Diagonal(randn(10))"
   ]
  },
  {
   "cell_type": "markdown",
   "id": "homeless-acquisition",
   "metadata": {},
   "source": [
    "## Operations on matrices"
   ]
  },
  {
   "cell_type": "code",
   "execution_count": 34,
   "id": "metallic-military",
   "metadata": {},
   "outputs": [
    {
     "data": {
      "text/plain": [
       "10×10 Matrix{Float64}:\n",
       " -0.0603631   0.108958   -0.0893174   …   0.340931   -0.13597    -0.291706\n",
       " -0.477263    0.770444    0.342406       -0.206574    0.910364    0.686947\n",
       "  1.06798    -0.797125   -0.588983        0.206366   -1.05805    -0.877782\n",
       " -0.138666   -0.0830638  -0.108608        0.160631    0.122911   -0.0225467\n",
       " -0.0750884  -1.50055    -0.353561        0.558826   -0.438006   -0.698015\n",
       "  0.425168   -0.265067   -0.268286    …   0.0554592  -0.359629   -0.0657465\n",
       " -0.105593    0.34329    -0.00660373     -0.159042    0.324106    0.535303\n",
       " -0.0309509  -0.890477   -0.18938         0.423808   -0.466581   -0.527276\n",
       " -0.264381    0.239248   -0.139576       -0.0428192  -0.0659677  -0.161161\n",
       " -0.515772    0.851842    0.382606       -0.384388    0.985749    0.725855"
      ]
     },
     "execution_count": 34,
     "metadata": {},
     "output_type": "execute_result"
    }
   ],
   "source": [
    "inv(A)"
   ]
  },
  {
   "cell_type": "code",
   "execution_count": 35,
   "id": "intense-milan",
   "metadata": {},
   "outputs": [
    {
     "data": {
      "text/plain": [
       "false"
      ]
     },
     "execution_count": 35,
     "metadata": {},
     "output_type": "execute_result"
    }
   ],
   "source": [
    "inv(A) * A == I"
   ]
  },
  {
   "cell_type": "code",
   "execution_count": 36,
   "id": "pending-greek",
   "metadata": {},
   "outputs": [
    {
     "data": {
      "text/plain": [
       "10×10 Matrix{Float64}:\n",
       "  1.0           3.13652e-16   6.41646e-18  …  -2.56656e-16   8.03909e-17\n",
       " -7.11477e-17   1.0           2.29408e-16     -9.87266e-16   1.73657e-16\n",
       "  2.28619e-16  -7.5154e-16    1.0              1.1485e-15   -6.40503e-16\n",
       " -5.2227e-17    7.09784e-17   3.11332e-17     -2.26151e-16   4.87342e-17\n",
       "  9.64537e-17  -5.06137e-16  -2.51105e-16      3.31916e-16  -3.92085e-16\n",
       "  1.59194e-18  -1.18392e-16   5.59012e-17  …   4.31183e-16  -4.11068e-16\n",
       " -1.04298e-16   1.86048e-16  -4.68579e-17     -1.9283e-16   -7.04297e-17\n",
       "  8.33399e-17   1.56759e-16   9.84767e-17      8.64394e-16  -4.19678e-16\n",
       " -4.00442e-17   1.57086e-16   4.94914e-17      1.0           1.23331e-16\n",
       " -3.27509e-17   7.58606e-16   2.34019e-16     -3.12417e-16   1.0"
      ]
     },
     "execution_count": 36,
     "metadata": {},
     "output_type": "execute_result"
    }
   ],
   "source": [
    "inv(A) * A"
   ]
  },
  {
   "cell_type": "code",
   "execution_count": 37,
   "id": "acceptable-configuration",
   "metadata": {},
   "outputs": [
    {
     "data": {
      "text/plain": [
       "10×10 Matrix{Rational{BigInt}}:\n",
       "  31//50   -53//100   79//100   11//50   …  -39//100   27//100  -11//50\n",
       " -67//100   -1//20   -21//100   -8//25       23//50   -21//50    39//100\n",
       "   7//100   69//100  -89//100  -57//100     -37//100   19//50    -1//5\n",
       "  11//25    27//50    43//50    39//100     -13//50    57//100  -69//100\n",
       "  51//100   29//50   -21//25     3//10      -37//50    -4//5    -73//100\n",
       " -33//50   -51//100   -9//50    31//50   …    9//100   81//100   29//50\n",
       "  21//100  -21//25     2//5     -3//100      13//20   -33//50    29//100\n",
       " -89//100    1//5     63//100   43//50       -1//50     7//10    47//100\n",
       " -13//50    31//100  -53//100   41//50       -7//50    27//50   -41//50\n",
       "  21//25    -2//5      1//4     12//25      -31//100   71//100   -1//25"
      ]
     },
     "execution_count": 37,
     "metadata": {},
     "output_type": "execute_result"
    }
   ],
   "source": [
    "B = big.(rand(-100:100, 10, 10)) // 100"
   ]
  },
  {
   "cell_type": "code",
   "execution_count": 38,
   "id": "thrown-resident",
   "metadata": {},
   "outputs": [
    {
     "data": {
      "text/plain": [
       "10×10 Matrix{Rational{BigInt}}:\n",
       "  -2610393987763394888//3687454502839697033   …   3907168699445214296//3687454502839697033\n",
       "  -8146580070867791072//11062363508519091099      6669755046737221724//11062363508519091099\n",
       "   4371909474674960228//11062363508519091099     -3756679440208299176//11062363508519091099\n",
       "  -4130406791828528056//11062363508519091099     10700204520423149452//11062363508519091099\n",
       "   1039712242136634316//11062363508519091099       639298720842120428//11062363508519091099\n",
       "  -2754985694628200852//11062363508519091099  …  -4594332421874992816//11062363508519091099\n",
       "   2149600119706174864//11062363508519091099      -464563827306583888//11062363508519091099\n",
       " -13238888248857174016//11062363508519091099      6865566844725797272//11062363508519091099\n",
       "  -1393674735991029724//11062363508519091099      1651456705768204108//11062363508519091099\n",
       "  -5295283402966583024//11062363508519091099      9868606331938360208//11062363508519091099"
      ]
     },
     "execution_count": 38,
     "metadata": {},
     "output_type": "execute_result"
    }
   ],
   "source": [
    "invB = inv(B)"
   ]
  },
  {
   "cell_type": "code",
   "execution_count": 39,
   "id": "accessory-cancer",
   "metadata": {},
   "outputs": [
    {
     "data": {
      "text/plain": [
       "true"
      ]
     },
     "execution_count": 39,
     "metadata": {},
     "output_type": "execute_result"
    }
   ],
   "source": [
    "invB * B == I"
   ]
  },
  {
   "cell_type": "markdown",
   "id": "competent-allah",
   "metadata": {},
   "source": [
    "## Floating point numbers\n",
    "\n",
    "internal representation: m * 2^e\n",
    "\n",
    "- double precision, 64 bits: m as 53 bits, e as 11 bits\n",
    "- single precision, 32 bits\n",
    "- half precision, 16 bits\n",
    "- ... 8 bits ..."
   ]
  },
  {
   "cell_type": "code",
   "execution_count": 40,
   "id": "sound-nature",
   "metadata": {},
   "outputs": [
    {
     "data": {
      "text/plain": [
       "true"
      ]
     },
     "execution_count": 40,
     "metadata": {},
     "output_type": "execute_result"
    }
   ],
   "source": [
    "isapprox(inv(A) * A, I)"
   ]
  },
  {
   "cell_type": "code",
   "execution_count": 41,
   "id": "binary-affiliation",
   "metadata": {},
   "outputs": [
    {
     "data": {
      "text/plain": [
       "true"
      ]
     },
     "execution_count": 41,
     "metadata": {},
     "output_type": "execute_result"
    }
   ],
   "source": [
    "inv(A) * A ≈ I"
   ]
  },
  {
   "cell_type": "markdown",
   "id": "first-principle",
   "metadata": {},
   "source": [
    "\\approx"
   ]
  },
  {
   "cell_type": "code",
   "execution_count": 42,
   "id": "another-french",
   "metadata": {},
   "outputs": [
    {
     "data": {
      "text/plain": [
       "42"
      ]
     },
     "execution_count": 42,
     "metadata": {},
     "output_type": "execute_result"
    }
   ],
   "source": [
    "⌣ = 42"
   ]
  },
  {
   "cell_type": "code",
   "execution_count": 43,
   "id": "million-religious",
   "metadata": {},
   "outputs": [
    {
     "data": {
      "text/plain": [
       "42"
      ]
     },
     "execution_count": 43,
     "metadata": {},
     "output_type": "execute_result"
    }
   ],
   "source": [
    "⌣"
   ]
  },
  {
   "cell_type": "code",
   "execution_count": 44,
   "id": "alpha-arabic",
   "metadata": {},
   "outputs": [],
   "source": [
    "# ẋ x′"
   ]
  },
  {
   "cell_type": "code",
   "execution_count": 45,
   "id": "operating-turkey",
   "metadata": {},
   "outputs": [
    {
     "data": {
      "text/plain": [
       "3602879701896397//36028797018963968"
      ]
     },
     "execution_count": 45,
     "metadata": {},
     "output_type": "execute_result"
    }
   ],
   "source": [
    "Rational(0.1)"
   ]
  },
  {
   "cell_type": "code",
   "execution_count": 46,
   "id": "south-temple",
   "metadata": {},
   "outputs": [
    {
     "data": {
      "text/plain": [
       "5.551115123125783e-18"
      ]
     },
     "execution_count": 46,
     "metadata": {},
     "output_type": "execute_result"
    }
   ],
   "source": [
    "float(Rational(0.1) - 1//10)"
   ]
  },
  {
   "cell_type": "code",
   "execution_count": 47,
   "id": "designed-cyprus",
   "metadata": {},
   "outputs": [
    {
     "data": {
      "text/plain": [
       "π = 3.1415926535897..."
      ]
     },
     "execution_count": 47,
     "metadata": {},
     "output_type": "execute_result"
    }
   ],
   "source": [
    "π"
   ]
  },
  {
   "cell_type": "code",
   "execution_count": 48,
   "id": "convertible-reduction",
   "metadata": {},
   "outputs": [
    {
     "data": {
      "text/plain": [
       "3.141592653589793"
      ]
     },
     "execution_count": 48,
     "metadata": {},
     "output_type": "execute_result"
    }
   ],
   "source": [
    "Float64(π)"
   ]
  },
  {
   "cell_type": "code",
   "execution_count": 49,
   "id": "photographic-newark",
   "metadata": {},
   "outputs": [
    {
     "data": {
      "text/plain": [
       "3.141592653589793238462643383279502884197169399375105820974944592307816406286198"
      ]
     },
     "execution_count": 49,
     "metadata": {},
     "output_type": "execute_result"
    }
   ],
   "source": [
    "BigFloat(π)"
   ]
  },
  {
   "cell_type": "code",
   "execution_count": 50,
   "id": "adjustable-milwaukee",
   "metadata": {},
   "outputs": [
    {
     "data": {
      "text/plain": [
       "true"
      ]
     },
     "execution_count": 50,
     "metadata": {},
     "output_type": "execute_result"
    }
   ],
   "source": [
    "isapprox(1, 1.00001; atol=1e-3)"
   ]
  },
  {
   "cell_type": "code",
   "execution_count": 51,
   "id": "familiar-market",
   "metadata": {},
   "outputs": [
    {
     "data": {
      "text/plain": [
       "0.001"
      ]
     },
     "execution_count": 51,
     "metadata": {},
     "output_type": "execute_result"
    }
   ],
   "source": [
    "const tol = 1e-3"
   ]
  },
  {
   "cell_type": "code",
   "execution_count": 52,
   "id": "biblical-creek",
   "metadata": {},
   "outputs": [
    {
     "data": {
      "text/plain": [
       "myisapprox (generic function with 1 method)"
      ]
     },
     "execution_count": 52,
     "metadata": {},
     "output_type": "execute_result"
    }
   ],
   "source": [
    "myisapprox(a,b) = isapprox(a, b; atol=tol)"
   ]
  },
  {
   "cell_type": "code",
   "execution_count": 53,
   "id": "successful-prototype",
   "metadata": {},
   "outputs": [
    {
     "data": {
      "text/plain": [
       "true"
      ]
     },
     "execution_count": 53,
     "metadata": {},
     "output_type": "execute_result"
    }
   ],
   "source": [
    "myisapprox(1, 1.00001)"
   ]
  },
  {
   "cell_type": "markdown",
   "id": "governing-curtis",
   "metadata": {},
   "source": [
    "# Least Squares"
   ]
  },
  {
   "cell_type": "code",
   "execution_count": 71,
   "id": "monetary-little",
   "metadata": {},
   "outputs": [
    {
     "data": {
      "text/plain": [
       "4"
      ]
     },
     "execution_count": 71,
     "metadata": {},
     "output_type": "execute_result"
    }
   ],
   "source": [
    "# expansion coefficients\n",
    "pmax = 4"
   ]
  },
  {
   "cell_type": "code",
   "execution_count": null,
   "id": "outer-overhead",
   "metadata": {},
   "outputs": [],
   "source": [
    "# evaluation points\n",
    "npoints = 11\n",
    "x = LinRange(0, π/2, npoints-1)"
   ]
  },
  {
   "cell_type": "code",
   "execution_count": null,
   "id": "particular-reaction",
   "metadata": {},
   "outputs": [],
   "source": [
    "# target function\n",
    "fstar(x) = sin(x)"
   ]
  },
  {
   "cell_type": "code",
   "execution_count": null,
   "id": "lined-identity",
   "metadata": {},
   "outputs": [],
   "source": [
    "# matrix\n",
    "A = [x[i]^p for i in 1:npoints, p in 0:pmax]"
   ]
  },
  {
   "cell_type": "code",
   "execution_count": null,
   "id": "instrumental-elder",
   "metadata": {},
   "outputs": [],
   "source": [
    "c = (A'*A) \\ (A'*b)"
   ]
  },
  {
   "cell_type": "markdown",
   "id": "hearing-attachment",
   "metadata": {},
   "source": [
    "## Solving linear systems"
   ]
  },
  {
   "cell_type": "code",
   "execution_count": 69,
   "id": "minus-nigeria",
   "metadata": {},
   "outputs": [
    {
     "data": {
      "text/plain": [
       "10-element Vector{Float64}:\n",
       " -0.5022188249828673\n",
       " -1.4684624820836565\n",
       " -0.732304730684058\n",
       " -0.9718000241141903\n",
       " -0.9702373112857338\n",
       "  1.3572045988513857\n",
       "  1.4784143973334847\n",
       " -0.17832791497581194\n",
       " -0.5122614326288\n",
       "  2.659881965797241"
      ]
     },
     "execution_count": 69,
     "metadata": {},
     "output_type": "execute_result"
    }
   ],
   "source": [
    "A = randn(10,10)\n",
    "b = randn(10)"
   ]
  },
  {
   "cell_type": "code",
   "execution_count": 62,
   "id": "revised-juvenile",
   "metadata": {},
   "outputs": [
    {
     "data": {
      "text/plain": [
       "0.6666666666666666"
      ]
     },
     "execution_count": 62,
     "metadata": {},
     "output_type": "execute_result"
    }
   ],
   "source": [
    "2 / 3"
   ]
  },
  {
   "cell_type": "code",
   "execution_count": 63,
   "id": "metric-switzerland",
   "metadata": {},
   "outputs": [
    {
     "data": {
      "text/plain": [
       "1.5"
      ]
     },
     "execution_count": 63,
     "metadata": {},
     "output_type": "execute_result"
    }
   ],
   "source": [
    "2 \\ 3"
   ]
  },
  {
   "cell_type": "code",
   "execution_count": 67,
   "id": "ahead-whale",
   "metadata": {},
   "outputs": [
    {
     "data": {
      "text/plain": [
       "10-element Vector{Float64}:\n",
       " -0.9063723567849704\n",
       " -0.930448325898977\n",
       " -1.6857217510127993\n",
       " -0.3235371956379028\n",
       " -1.509754594119294\n",
       "  0.2849739657226849\n",
       " -1.0920555313836793\n",
       "  1.5372840342353487\n",
       " -0.004295349465374819\n",
       "  0.911999627253853"
      ]
     },
     "execution_count": 67,
     "metadata": {},
     "output_type": "execute_result"
    }
   ],
   "source": [
    "x = A \\ b"
   ]
  },
  {
   "cell_type": "code",
   "execution_count": 68,
   "id": "bound-killer",
   "metadata": {},
   "outputs": [
    {
     "data": {
      "text/plain": [
       "true"
      ]
     },
     "execution_count": 68,
     "metadata": {},
     "output_type": "execute_result"
    }
   ],
   "source": [
    "A * x ≈ b"
   ]
  },
  {
   "cell_type": "code",
   "execution_count": null,
   "id": "powered-commonwealth",
   "metadata": {},
   "outputs": [],
   "source": []
  }
 ],
 "metadata": {
  "kernelspec": {
   "display_name": "Julia 1.8.5",
   "language": "julia",
   "name": "julia-1.8"
  },
  "language_info": {
   "file_extension": ".jl",
   "mimetype": "application/julia",
   "name": "julia",
   "version": "1.8.5"
  }
 },
 "nbformat": 4,
 "nbformat_minor": 5
}
