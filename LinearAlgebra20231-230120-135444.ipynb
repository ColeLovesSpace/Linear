{
 "cells": [
  {
   "cell_type": "code",
   "execution_count": 1,
   "id": "collected-fourth",
   "metadata": {},
   "outputs": [
    {
     "name": "stdout",
     "output_type": "stream",
     "text": [
      "Julia Version 1.8.5\n",
      "Commit 17cfb8e65ea (2023-01-08 06:45 UTC)\n",
      "Platform Info:\n",
      "  OS: Linux (x86_64-linux-gnu)\n",
      "  CPU: 80 × Intel(R) Xeon(R) Gold 6148 CPU @ 2.40GHz\n",
      "  WORD_SIZE: 64\n",
      "  LIBM: libopenlibm\n",
      "  LLVM: libLLVM-13.0.1 (ORCJIT, skylake-avx512)\n",
      "  Threads: 1 on 80 virtual cores\n",
      "Environment:\n",
      "  LD_LIBRARY_PATH = /cm/shared/apps/slurm/19.05.8/lib64/slurm:/cm/shared/apps/slurm/19.05.8/lib64\n",
      "  LD_LIBRARY_PATH_modshare = /cm/shared/apps/slurm/19.05.8/lib64:1:/cm/shared/apps/slurm/19.05.8/lib64/slurm:1\n"
     ]
    }
   ],
   "source": [
    "versioninfo()"
   ]
  },
  {
   "cell_type": "markdown",
   "id": "incorporate-exemption",
   "metadata": {},
   "source": [
    "# Linear Algebra"
   ]
  },
  {
   "cell_type": "markdown",
   "id": "educated-christianity",
   "metadata": {},
   "source": [
    "## Vectors and Matrices"
   ]
  },
  {
   "cell_type": "code",
   "execution_count": 2,
   "id": "invalid-jacksonville",
   "metadata": {},
   "outputs": [
    {
     "data": {
      "text/plain": [
       "3-element Vector{Int64}:\n",
       " 1\n",
       " 2\n",
       " 3"
      ]
     },
     "execution_count": 2,
     "metadata": {},
     "output_type": "execute_result"
    }
   ],
   "source": [
    "x = [1, 2, 3]"
   ]
  },
  {
   "cell_type": "code",
   "execution_count": 3,
   "id": "driving-trigger",
   "metadata": {},
   "outputs": [
    {
     "data": {
      "text/plain": [
       "4-element Vector{Float64}:\n",
       " 0.0\n",
       " 0.0\n",
       " 0.0\n",
       " 0.0"
      ]
     },
     "execution_count": 3,
     "metadata": {},
     "output_type": "execute_result"
    }
   ],
   "source": [
    "x = zeros(4)"
   ]
  },
  {
   "cell_type": "code",
   "execution_count": 4,
   "id": "exterior-soldier",
   "metadata": {},
   "outputs": [
    {
     "data": {
      "text/plain": [
       "4-element Vector{Float64}:\n",
       " 1.0\n",
       " 1.0\n",
       " 1.0\n",
       " 1.0"
      ]
     },
     "execution_count": 4,
     "metadata": {},
     "output_type": "execute_result"
    }
   ],
   "source": [
    "x = ones(4)"
   ]
  },
  {
   "cell_type": "code",
   "execution_count": 5,
   "id": "original-cargo",
   "metadata": {},
   "outputs": [
    {
     "data": {
      "text/plain": [
       "4-element Vector{Int64}:\n",
       " 2\n",
       " 2\n",
       " 2\n",
       " 2"
      ]
     },
     "execution_count": 5,
     "metadata": {},
     "output_type": "execute_result"
    }
   ],
   "source": [
    "x = fill(2, 4)"
   ]
  },
  {
   "cell_type": "code",
   "execution_count": 6,
   "id": "bronze-customs",
   "metadata": {},
   "outputs": [
    {
     "data": {
      "text/plain": [
       "4-element Vector{Float64}:\n",
       " 0.8996499963459214\n",
       " 0.037786892549404816\n",
       " 0.4031264941850953\n",
       " 0.6126642300955146"
      ]
     },
     "execution_count": 6,
     "metadata": {},
     "output_type": "execute_result"
    }
   ],
   "source": [
    "x = rand(4)"
   ]
  },
  {
   "cell_type": "code",
   "execution_count": 7,
   "id": "amber-carolina",
   "metadata": {},
   "outputs": [
    {
     "data": {
      "text/plain": [
       "4-element Vector{Float64}:\n",
       " -1.6270848327891831\n",
       "  1.1341852825843286\n",
       " -0.6707704024853621\n",
       "  0.8315451989225884"
      ]
     },
     "execution_count": 7,
     "metadata": {},
     "output_type": "execute_result"
    }
   ],
   "source": [
    "x = randn(4)"
   ]
  },
  {
   "cell_type": "code",
   "execution_count": 8,
   "id": "polish-fisher",
   "metadata": {},
   "outputs": [
    {
     "data": {
      "text/plain": [
       "10-element Vector{Float64}:\n",
       "  2.4031098610545567\n",
       " -0.8311256525693046\n",
       "  0.8895785144920922\n",
       "  0.3185303813690472\n",
       " -0.7573750004106052\n",
       " -0.28919400077453383\n",
       "  1.3414124451209453\n",
       " -0.8936380792982158\n",
       "  0.22985102421678671\n",
       "  0.23114761882433152"
      ]
     },
     "execution_count": 8,
     "metadata": {},
     "output_type": "execute_result"
    }
   ],
   "source": [
    "x = randn(10)"
   ]
  },
  {
   "cell_type": "code",
   "execution_count": 9,
   "id": "contemporary-tolerance",
   "metadata": {},
   "outputs": [
    {
     "data": {
      "text/plain": [
       "3×2 Matrix{Int64}:\n",
       " 1  2\n",
       " 3  4\n",
       " 5  6"
      ]
     },
     "execution_count": 9,
     "metadata": {},
     "output_type": "execute_result"
    }
   ],
   "source": [
    "A = [1 2; 3 4; 5 6]"
   ]
  },
  {
   "cell_type": "code",
   "execution_count": 10,
   "id": "engaged-prophet",
   "metadata": {},
   "outputs": [
    {
     "data": {
      "text/plain": [
       "4×4 Matrix{Float64}:\n",
       " 0.0  0.0  0.0  0.0\n",
       " 0.0  0.0  0.0  0.0\n",
       " 0.0  0.0  0.0  0.0\n",
       " 0.0  0.0  0.0  0.0"
      ]
     },
     "execution_count": 10,
     "metadata": {},
     "output_type": "execute_result"
    }
   ],
   "source": [
    "A = zeros(4, 4)"
   ]
  },
  {
   "cell_type": "code",
   "execution_count": 11,
   "id": "honest-change",
   "metadata": {},
   "outputs": [],
   "source": [
    "using LinearAlgebra"
   ]
  },
  {
   "cell_type": "code",
   "execution_count": 12,
   "id": "charitable-support",
   "metadata": {},
   "outputs": [
    {
     "data": {
      "text/plain": [
       "4×4 Matrix{Float64}:\n",
       " 1.0  0.0  0.0  0.0\n",
       " 0.0  1.0  0.0  0.0\n",
       " 0.0  0.0  1.0  0.0\n",
       " 0.0  0.0  0.0  1.0"
      ]
     },
     "execution_count": 12,
     "metadata": {},
     "output_type": "execute_result"
    }
   ],
   "source": [
    "A + I"
   ]
  },
  {
   "cell_type": "markdown",
   "id": "funded-scene",
   "metadata": {},
   "source": [
    "`I` is the identity matrix"
   ]
  },
  {
   "cell_type": "code",
   "execution_count": 13,
   "id": "capital-settle",
   "metadata": {},
   "outputs": [
    {
     "data": {
      "text/plain": [
       "UniformScaling{Bool}"
      ]
     },
     "execution_count": 13,
     "metadata": {},
     "output_type": "execute_result"
    }
   ],
   "source": [
    "typeof(I)"
   ]
  },
  {
   "cell_type": "code",
   "execution_count": 14,
   "id": "valued-procedure",
   "metadata": {},
   "outputs": [
    {
     "data": {
      "text/plain": [
       "10×10 Matrix{Float64}:\n",
       "  0.296304   1.58341   -0.0366465  …   0.371724   0.849471    0.770309\n",
       " -0.718527  -0.348199  -0.593788      -1.75289   -0.0250053   0.669898\n",
       "  1.63976   -1.14159   -2.18676       -0.480174  -0.0505617   1.03186\n",
       "  1.19449    1.26358   -0.355305      -0.18366   -1.17637     0.0330279\n",
       "  0.584364  -1.21314   -1.54054        1.10834    0.35221     0.430457\n",
       " -0.404281   0.58967   -1.15768    …   0.39554   -0.931908   -1.32072\n",
       "  0.568006  -0.776559   1.68858       -0.478255   1.25104    -0.120637\n",
       " -0.353696   0.563102   1.65967        0.245993  -0.0646085   0.637171\n",
       "  0.21396    0.551533   0.765455      -0.565634  -1.05752     0.743447\n",
       " -1.15849   -1.72129    0.419384       0.129274   0.618487   -1.09672"
      ]
     },
     "execution_count": 14,
     "metadata": {},
     "output_type": "execute_result"
    }
   ],
   "source": [
    "A = randn(10, 10)"
   ]
  },
  {
   "cell_type": "code",
   "execution_count": 15,
   "id": "respected-memory",
   "metadata": {},
   "outputs": [
    {
     "data": {
      "text/plain": [
       "10-element Vector{Float64}:\n",
       "  0.595284840703115\n",
       "  0.8707917302224613\n",
       "  1.040319829708752\n",
       "  4.426826334267087\n",
       "  1.6726641387889751\n",
       " -6.680234641939456\n",
       "  4.467938031395946\n",
       "  1.8729955422060924\n",
       "  0.03384557608099926\n",
       " -2.5818355881566055"
      ]
     },
     "execution_count": 15,
     "metadata": {},
     "output_type": "execute_result"
    }
   ],
   "source": [
    "A * x"
   ]
  },
  {
   "cell_type": "code",
   "execution_count": 16,
   "id": "twenty-polls",
   "metadata": {},
   "outputs": [
    {
     "ename": "LoadError",
     "evalue": "DimensionMismatch: A has dimensions (10,1) but B has dimensions (10,10)",
     "output_type": "error",
     "traceback": [
      "DimensionMismatch: A has dimensions (10,1) but B has dimensions (10,10)",
      "",
      "Stacktrace:",
      " [1] gemm_wrapper!(C::Matrix{Float64}, tA::Char, tB::Char, A::Matrix{Float64}, B::Matrix{Float64}, _add::LinearAlgebra.MulAddMul{true, true, Bool, Bool})",
      "   @ LinearAlgebra ~/.julia/juliaup/julia-1.8.5+0.x64.linux.gnu/share/julia/stdlib/v1.8/LinearAlgebra/src/matmul.jl:646",
      " [2] mul!",
      "   @ ~/.julia/juliaup/julia-1.8.5+0.x64.linux.gnu/share/julia/stdlib/v1.8/LinearAlgebra/src/matmul.jl:161 [inlined]",
      " [3] mul!",
      "   @ ~/.julia/juliaup/julia-1.8.5+0.x64.linux.gnu/share/julia/stdlib/v1.8/LinearAlgebra/src/matmul.jl:276 [inlined]",
      " [4] *",
      "   @ ~/.julia/juliaup/julia-1.8.5+0.x64.linux.gnu/share/julia/stdlib/v1.8/LinearAlgebra/src/matmul.jl:148 [inlined]",
      " [5] *(a::Vector{Float64}, B::Matrix{Float64})",
      "   @ LinearAlgebra ~/.julia/juliaup/julia-1.8.5+0.x64.linux.gnu/share/julia/stdlib/v1.8/LinearAlgebra/src/matmul.jl:62",
      " [6] top-level scope",
      "   @ In[16]:1"
     ]
    }
   ],
   "source": [
    "x * A"
   ]
  },
  {
   "cell_type": "code",
   "execution_count": 17,
   "id": "senior-italy",
   "metadata": {},
   "outputs": [
    {
     "data": {
      "text/plain": [
       "1×10 adjoint(::Vector{Float64}) with eltype Float64:\n",
       " 3.68215  2.41373  0.903346  -2.0041  -1.78297  …  -0.0508056  3.281  1.46489"
      ]
     },
     "execution_count": 17,
     "metadata": {},
     "output_type": "execute_result"
    }
   ],
   "source": [
    "x' * A"
   ]
  },
  {
   "cell_type": "markdown",
   "id": "czech-money",
   "metadata": {},
   "source": [
    "`'`is the transpose"
   ]
  },
  {
   "cell_type": "code",
   "execution_count": 18,
   "id": "shared-drive",
   "metadata": {},
   "outputs": [
    {
     "data": {
      "text/plain": [
       "10×10 transpose(::Matrix{Float64}) with eltype Float64:\n",
       "  0.296304   -0.718527    1.63976    …  -0.353696    0.21396   -1.15849\n",
       "  1.58341    -0.348199   -1.14159        0.563102    0.551533  -1.72129\n",
       " -0.0366465  -0.593788   -2.18676        1.65967     0.765455   0.419384\n",
       " -1.33303    -0.0439847  -0.333462       0.18874     1.11422   -1.44606\n",
       " -1.51272    -1.2254      0.851784      -0.347078    0.338082  -0.968395\n",
       " -0.273615    1.41344     1.44648    …  -1.03301     0.430552   0.654453\n",
       "  0.291119    0.458807   -1.03626        0.879845   -0.82857   -1.08709\n",
       "  0.371724   -1.75289    -0.480174       0.245993   -0.565634   0.129274\n",
       "  0.849471   -0.0250053  -0.0505617     -0.0646085  -1.05752    0.618487\n",
       "  0.770309    0.669898    1.03186        0.637171    0.743447  -1.09672"
      ]
     },
     "execution_count": 18,
     "metadata": {},
     "output_type": "execute_result"
    }
   ],
   "source": [
    "transpose(A)"
   ]
  },
  {
   "cell_type": "code",
   "execution_count": 19,
   "id": "geological-correspondence",
   "metadata": {},
   "outputs": [
    {
     "data": {
      "text/plain": [
       "10-element Vector{Float64}:\n",
       " -0.21119388828990185\n",
       "  0.8577502490671166\n",
       "  1.2251630385390737\n",
       " -0.25039139710348385\n",
       "  1.3900015582721716\n",
       "  0.16212214612351294\n",
       "  1.8963374336848673\n",
       " -1.012085380078857\n",
       "  0.2572364279740445\n",
       " -0.7854637641701424"
      ]
     },
     "execution_count": 19,
     "metadata": {},
     "output_type": "execute_result"
    }
   ],
   "source": [
    "y = randn(10)"
   ]
  },
  {
   "cell_type": "code",
   "execution_count": 20,
   "id": "suffering-search",
   "metadata": {},
   "outputs": [
    {
     "data": {
      "text/plain": [
       "10.643046608741834"
      ]
     },
     "execution_count": 20,
     "metadata": {},
     "output_type": "execute_result"
    }
   ],
   "source": [
    "y' * A * x"
   ]
  },
  {
   "cell_type": "code",
   "execution_count": 21,
   "id": "endangered-import",
   "metadata": {},
   "outputs": [
    {
     "data": {
      "text/plain": [
       "0.03994512192215165"
      ]
     },
     "execution_count": 21,
     "metadata": {},
     "output_type": "execute_result"
    }
   ],
   "source": [
    "y[1] * A[2, 3] * x[4]"
   ]
  },
  {
   "cell_type": "code",
   "execution_count": 22,
   "id": "governmental-occurrence",
   "metadata": {},
   "outputs": [
    {
     "data": {
      "text/plain": [
       "Vector{Float64}\u001b[90m (alias for \u001b[39m\u001b[90mArray{Float64, 1}\u001b[39m\u001b[90m)\u001b[39m"
      ]
     },
     "execution_count": 22,
     "metadata": {},
     "output_type": "execute_result"
    }
   ],
   "source": [
    "typeof(x)"
   ]
  },
  {
   "cell_type": "code",
   "execution_count": 23,
   "id": "bound-hormone",
   "metadata": {},
   "outputs": [
    {
     "data": {
      "text/plain": [
       "Adjoint{Float64, Vector{Float64}}"
      ]
     },
     "execution_count": 23,
     "metadata": {},
     "output_type": "execute_result"
    }
   ],
   "source": [
    "typeof(x')"
   ]
  },
  {
   "cell_type": "code",
   "execution_count": 24,
   "id": "associate-webcam",
   "metadata": {},
   "outputs": [
    {
     "data": {
      "text/plain": [
       "Vector{Float64}\u001b[90m (alias for \u001b[39m\u001b[90mArray{Float64, 1}\u001b[39m\u001b[90m)\u001b[39m"
      ]
     },
     "execution_count": 24,
     "metadata": {},
     "output_type": "execute_result"
    }
   ],
   "source": [
    "typeof(x'')"
   ]
  },
  {
   "cell_type": "code",
   "execution_count": 25,
   "id": "chronic-talent",
   "metadata": {},
   "outputs": [
    {
     "data": {
      "text/plain": [
       "2×2×2 Array{Int64, 3}:\n",
       "[:, :, 1] =\n",
       " 1  3\n",
       " 2  4\n",
       "\n",
       "[:, :, 2] =\n",
       " 5  7\n",
       " 6  8"
      ]
     },
     "execution_count": 25,
     "metadata": {},
     "output_type": "execute_result"
    }
   ],
   "source": [
    "M = [1;2;; 3;4;;; 5;6;; 7;8]"
   ]
  },
  {
   "cell_type": "code",
   "execution_count": 26,
   "id": "apart-valuation",
   "metadata": {},
   "outputs": [
    {
     "data": {
      "text/plain": [
       "4×2 Matrix{Int64}:\n",
       " 1  5\n",
       " 2  6\n",
       " 3  7\n",
       " 4  8"
      ]
     },
     "execution_count": 26,
     "metadata": {},
     "output_type": "execute_result"
    }
   ],
   "source": [
    "reshape(M, (4,2))"
   ]
  },
  {
   "cell_type": "code",
   "execution_count": 27,
   "id": "egyptian-driving",
   "metadata": {},
   "outputs": [
    {
     "data": {
      "text/plain": [
       "2×4 Matrix{Int64}:\n",
       " 1  3  5  7\n",
       " 2  4  6  8"
      ]
     },
     "execution_count": 27,
     "metadata": {},
     "output_type": "execute_result"
    }
   ],
   "source": [
    "reshape(M, (2,4))"
   ]
  },
  {
   "cell_type": "code",
   "execution_count": 28,
   "id": "modern-brighton",
   "metadata": {},
   "outputs": [
    {
     "data": {
      "text/plain": [
       "100-element Vector{Float64}:\n",
       "  0.29630444344558654\n",
       " -0.7185265459620173\n",
       "  1.6397621087291334\n",
       "  1.194488422209539\n",
       "  0.5843637453138649\n",
       " -0.4042812742623216\n",
       "  0.5680057203679018\n",
       " -0.35369590869885176\n",
       "  0.21396014655626866\n",
       " -1.1584898504712184\n",
       "  1.5834081076636604\n",
       " -0.3481985271752315\n",
       " -1.1415892347572683\n",
       "  ⋮\n",
       " -1.0575175792521956\n",
       "  0.6184869924734187\n",
       "  0.7703089962902211\n",
       "  0.6698975836988228\n",
       "  1.031864800057134\n",
       "  0.033027858763592356\n",
       "  0.43045723347533243\n",
       " -1.3207192368572802\n",
       " -0.12063698007085714\n",
       "  0.6371707044713242\n",
       "  0.743447228519722\n",
       " -1.0967210981132254"
      ]
     },
     "execution_count": 28,
     "metadata": {},
     "output_type": "execute_result"
    }
   ],
   "source": [
    "Avec = reshape(A, 100)"
   ]
  },
  {
   "cell_type": "code",
   "execution_count": 29,
   "id": "listed-singles",
   "metadata": {},
   "outputs": [
    {
     "data": {
      "text/plain": [
       "true"
      ]
     },
     "execution_count": 29,
     "metadata": {},
     "output_type": "execute_result"
    }
   ],
   "source": [
    "reshape(Avec, (10, 10)) == A"
   ]
  },
  {
   "cell_type": "markdown",
   "id": "naval-assets",
   "metadata": {},
   "source": [
    "## Matrix types"
   ]
  },
  {
   "cell_type": "markdown",
   "id": "complete-machinery",
   "metadata": {},
   "source": [
    "- dense (full)\n",
    "- symmetric\n",
    "- triangular\n",
    "- diagonal\n",
    "- bi-, tri-diagonal\n",
    "- sparse"
   ]
  },
  {
   "cell_type": "code",
   "execution_count": 30,
   "id": "offensive-latter",
   "metadata": {},
   "outputs": [
    {
     "data": {
      "text/plain": [
       "10×10 Symmetric{Float64, Matrix{Float64}}:\n",
       "  0.296304    1.58341    -0.0366465  …   0.371724    0.849471    0.770309\n",
       "  1.58341    -0.348199   -0.593788      -1.75289    -0.0250053   0.669898\n",
       " -0.0366465  -0.593788   -2.18676       -0.480174   -0.0505617   1.03186\n",
       " -1.33303    -0.0439847  -0.333462      -0.18366    -1.17637     0.0330279\n",
       " -1.51272    -1.2254      0.851784       1.10834     0.35221     0.430457\n",
       " -0.273615    1.41344     1.44648    …   0.39554    -0.931908   -1.32072\n",
       "  0.291119    0.458807   -1.03626       -0.478255    1.25104    -0.120637\n",
       "  0.371724   -1.75289    -0.480174       0.245993   -0.0646085   0.637171\n",
       "  0.849471   -0.0250053  -0.0505617     -0.0646085  -1.05752     0.743447\n",
       "  0.770309    0.669898    1.03186        0.637171    0.743447   -1.09672"
      ]
     },
     "execution_count": 30,
     "metadata": {},
     "output_type": "execute_result"
    }
   ],
   "source": [
    "Symmetric(A)"
   ]
  },
  {
   "cell_type": "code",
   "execution_count": 31,
   "id": "canadian-crossing",
   "metadata": {},
   "outputs": [
    {
     "data": {
      "text/plain": [
       "10×10 Matrix{Float64}:\n",
       "  0.0        0.0         0.0        …   0.0      0.0       0.0      0.0\n",
       "  2.30193    0.0         0.0            0.0      0.0       0.0      0.0\n",
       " -1.67641    0.547801    0.0            0.0      0.0       0.0      0.0\n",
       " -2.52752   -1.30757     0.0218433      0.0      0.0       0.0      0.0\n",
       " -2.09709   -0.0122651   2.39232        0.0      0.0       0.0      0.0\n",
       "  0.130667   0.823773    2.60416    …   0.0      0.0       0.0      0.0\n",
       " -0.276887   1.23537    -2.72484        0.0      0.0       0.0      0.0\n",
       "  0.72542   -2.31599    -2.13985       -1.3581   0.0       0.0      0.0\n",
       "  0.635511  -0.576539   -0.816017       2.07961  0.501025  0.0      0.0\n",
       "  1.9288     2.39119     0.612481       0.96645  0.507896  0.12496  0.0"
      ]
     },
     "execution_count": 31,
     "metadata": {},
     "output_type": "execute_result"
    }
   ],
   "source": [
    "Symmetric(A) - A"
   ]
  },
  {
   "cell_type": "code",
   "execution_count": 32,
   "id": "blank-girlfriend",
   "metadata": {},
   "outputs": [
    {
     "data": {
      "text/plain": [
       "10×10 Symmetric{Float64, Matrix{Float64}}:\n",
       "  0.592609    0.864882   1.60312   …   0.0180283    1.06343    -0.388181\n",
       "  0.864882   -0.696397  -1.73538      -1.18979      0.526528   -1.05139\n",
       "  1.60312    -1.73538   -4.37352       1.1795       0.714893    1.45125\n",
       " -0.138545    1.2196    -0.688766      0.00507948  -0.0621534  -1.41303\n",
       " -0.928358   -2.43854   -0.688754      0.761267     0.690292   -0.537938\n",
       " -0.677896    2.00311    0.288806  …  -0.637473    -0.501357   -0.666266\n",
       "  0.859124   -0.317752   0.652312      0.40159      0.422469   -1.20772\n",
       "  0.0180283  -1.18979    1.1795        0.491986    -0.630242    0.766445\n",
       "  1.06343     0.526528   0.714893     -0.630242    -2.11504     1.36193\n",
       " -0.388181   -1.05139    1.45125       0.766445     1.36193    -2.19344"
      ]
     },
     "execution_count": 32,
     "metadata": {},
     "output_type": "execute_result"
    }
   ],
   "source": [
    "Symmetric(A + A')"
   ]
  },
  {
   "cell_type": "code",
   "execution_count": 33,
   "id": "statewide-trail",
   "metadata": {},
   "outputs": [
    {
     "data": {
      "text/plain": [
       "10×10 Diagonal{Float64, Vector{Float64}}:\n",
       " -1.28027   ⋅          ⋅        ⋅        …   ⋅         ⋅         ⋅ \n",
       "   ⋅       0.311793    ⋅        ⋅            ⋅         ⋅         ⋅ \n",
       "   ⋅        ⋅        -0.71666   ⋅            ⋅         ⋅         ⋅ \n",
       "   ⋅        ⋅          ⋅       0.129255      ⋅         ⋅         ⋅ \n",
       "   ⋅        ⋅          ⋅        ⋅            ⋅         ⋅         ⋅ \n",
       "   ⋅        ⋅          ⋅        ⋅        …   ⋅         ⋅         ⋅ \n",
       "   ⋅        ⋅          ⋅        ⋅            ⋅         ⋅         ⋅ \n",
       "   ⋅        ⋅          ⋅        ⋅           0.632835   ⋅         ⋅ \n",
       "   ⋅        ⋅          ⋅        ⋅            ⋅        0.668391   ⋅ \n",
       "   ⋅        ⋅          ⋅        ⋅            ⋅         ⋅        0.55212"
      ]
     },
     "execution_count": 33,
     "metadata": {},
     "output_type": "execute_result"
    }
   ],
   "source": [
    "Diagonal(randn(10))"
   ]
  },
  {
   "cell_type": "markdown",
   "id": "proof-driving",
   "metadata": {},
   "source": [
    "## Operations on matrices"
   ]
  },
  {
   "cell_type": "code",
   "execution_count": 34,
   "id": "bearing-rogers",
   "metadata": {},
   "outputs": [
    {
     "data": {
      "text/plain": [
       "10×10 Matrix{Float64}:\n",
       "  0.00101914  -0.285023     0.69748    …   0.593993   -0.538448    0.300498\n",
       "  0.125063     0.225304    -0.238509       0.0690827  -0.0197511  -0.581498\n",
       " -0.226224     0.172822     0.16443        1.01772    -0.220016   -0.226735\n",
       "  0.404727    -0.625374    -0.724689      -2.30047     1.19091     0.579716\n",
       " -0.409289     0.361501     0.135313       0.938223   -0.478565   -0.802376\n",
       " -0.607572     1.03144     -0.51517    …   1.0184     -0.0360128  -1.75209\n",
       " -0.657621     0.785991    -0.0103972      1.51675    -0.856465   -1.20964\n",
       " -0.255466     0.251168    -0.816973      -0.0515888   0.587149   -1.12298\n",
       "  0.767698    -0.692621    -0.411867      -2.16205     0.672743    0.786705\n",
       "  0.235993    -0.00565921  -0.089186      -0.262961    0.644008    0.00560491"
      ]
     },
     "execution_count": 34,
     "metadata": {},
     "output_type": "execute_result"
    }
   ],
   "source": [
    "inv(A)"
   ]
  },
  {
   "cell_type": "code",
   "execution_count": 35,
   "id": "acquired-october",
   "metadata": {},
   "outputs": [
    {
     "data": {
      "text/plain": [
       "false"
      ]
     },
     "execution_count": 35,
     "metadata": {},
     "output_type": "execute_result"
    }
   ],
   "source": [
    "inv(A) * A == I"
   ]
  },
  {
   "cell_type": "code",
   "execution_count": 36,
   "id": "close-finance",
   "metadata": {},
   "outputs": [
    {
     "data": {
      "text/plain": [
       "10×10 Matrix{Float64}:\n",
       "  1.0           3.36015e-16   1.27889e-16  …   1.73135e-16   1.24729e-16\n",
       "  1.98073e-16   1.0          -7.15417e-17      4.47584e-17   3.23921e-17\n",
       " -1.4191e-17    3.03371e-17   1.0              1.63234e-16   9.42124e-17\n",
       " -2.60006e-16   3.01404e-16   7.06905e-16      6.78433e-16   3.20193e-16\n",
       "  2.43704e-17  -3.04383e-16  -2.39212e-16     -2.44734e-16  -3.71893e-16\n",
       " -3.09388e-16  -5.07114e-16  -4.09359e-16  …  -3.25088e-16  -3.0784e-16\n",
       "  3.47526e-16  -3.16633e-16  -3.24876e-16     -1.30038e-16   3.99725e-16\n",
       " -1.93633e-16   1.11291e-16   2.57137e-16     -2.51647e-16  -3.45622e-16\n",
       " -8.72742e-17   3.93621e-16   6.30692e-16      1.0          -4.09653e-16\n",
       "  3.01063e-17  -7.30361e-18   1.00058e-16      6.48516e-17   1.0"
      ]
     },
     "execution_count": 36,
     "metadata": {},
     "output_type": "execute_result"
    }
   ],
   "source": [
    "inv(A) * A"
   ]
  },
  {
   "cell_type": "code",
   "execution_count": 37,
   "id": "brilliant-bearing",
   "metadata": {},
   "outputs": [
    {
     "data": {
      "text/plain": [
       "10×10 Matrix{Rational{BigInt}}:\n",
       " -14//25    91//100   -4//25    53//100  …  -67//100   -7//50     3//25\n",
       " -11//25    -7//100   13//50    43//100      31//100   91//100   17//50\n",
       "   9//50    63//100   27//100  -13//50      -13//20    -4//25   -81//100\n",
       "  43//100    2//25    -1//20    -7//25      -89//100   22//25    -1//2\n",
       "  -6//25   -77//100   -1//1     29//100      -4//25    -9//100  -47//100\n",
       " -39//100  -11//50    11//100    1//100  …   22//25   -31//100  -41//100\n",
       "  11//20    21//25   -21//50     1//20       -9//10    -7//10   -31//50\n",
       "  47//50    -1//4     79//100  -24//25       77//100   -9//100    3//5\n",
       "   4//5     77//100   24//25     7//25       -3//25   -39//50   -27//100\n",
       " -61//100  -11//50    13//100   -7//100      -9//20     9//10    49//50"
      ]
     },
     "execution_count": 37,
     "metadata": {},
     "output_type": "execute_result"
    }
   ],
   "source": [
    "B = big.(rand(-100:100, 10, 10)) // 100"
   ]
  },
  {
   "cell_type": "code",
   "execution_count": 38,
   "id": "sublime-isaac",
   "metadata": {},
   "outputs": [
    {
     "data": {
      "text/plain": [
       "10×10 Matrix{Rational{BigInt}}:\n",
       " -2410189007062999681//917933228412686465  …   -934037199717060714//917933228412686465\n",
       "   -75801319156842591//131133318344669495       -66616252538013262//393399955034008485\n",
       "  1212102021310676207//917933228412686465      1486068768579820574//2753799685238059395\n",
       " -1441811240570109426//917933228412686465     -1816980485531824232//2753799685238059395\n",
       "    77762642437147341//917933228412686465       258848411146386262//2753799685238059395\n",
       " -1165716921617707177//917933228412686465  …   -217573239641222538//917933228412686465\n",
       "  -192455979978136349//917933228412686465      1096155899581065182//2753799685238059395\n",
       "  -878491049907167957//917933228412686465     -1158219939243050074//2753799685238059395\n",
       "  -700581012821052098//917933228412686465      -302191174220647812//917933228412686465\n",
       "   -87351152891085207//183586645682537293        34187614172614242//183586645682537293"
      ]
     },
     "execution_count": 38,
     "metadata": {},
     "output_type": "execute_result"
    }
   ],
   "source": [
    "invB = inv(B)"
   ]
  },
  {
   "cell_type": "code",
   "execution_count": 39,
   "id": "silver-luxembourg",
   "metadata": {},
   "outputs": [
    {
     "data": {
      "text/plain": [
       "true"
      ]
     },
     "execution_count": 39,
     "metadata": {},
     "output_type": "execute_result"
    }
   ],
   "source": [
    "invB * B == I"
   ]
  },
  {
   "cell_type": "markdown",
   "id": "focused-warrant",
   "metadata": {},
   "source": [
    "## Floating point numbers\n",
    "\n",
    "internal representation: m * 2^e\n",
    "\n",
    "- double precision, 64 bits: m as 53 bits, e as 11 bits\n",
    "- single precision, 32 bits\n",
    "- half precision, 16 bits\n",
    "- ... 8 bits ..."
   ]
  },
  {
   "cell_type": "code",
   "execution_count": 40,
   "id": "greenhouse-magazine",
   "metadata": {},
   "outputs": [
    {
     "data": {
      "text/plain": [
       "true"
      ]
     },
     "execution_count": 40,
     "metadata": {},
     "output_type": "execute_result"
    }
   ],
   "source": [
    "isapprox(inv(A) * A, I)"
   ]
  },
  {
   "cell_type": "code",
   "execution_count": 41,
   "id": "respiratory-germany",
   "metadata": {},
   "outputs": [
    {
     "data": {
      "text/plain": [
       "true"
      ]
     },
     "execution_count": 41,
     "metadata": {},
     "output_type": "execute_result"
    }
   ],
   "source": [
    "inv(A) * A ≈ I"
   ]
  },
  {
   "cell_type": "markdown",
   "id": "based-masters",
   "metadata": {},
   "source": [
    "\\approx"
   ]
  },
  {
   "cell_type": "code",
   "execution_count": 42,
   "id": "turned-edmonton",
   "metadata": {},
   "outputs": [
    {
     "data": {
      "text/plain": [
       "42"
      ]
     },
     "execution_count": 42,
     "metadata": {},
     "output_type": "execute_result"
    }
   ],
   "source": [
    "⌣ = 42"
   ]
  },
  {
   "cell_type": "code",
   "execution_count": 43,
   "id": "legislative-congress",
   "metadata": {},
   "outputs": [
    {
     "data": {
      "text/plain": [
       "42"
      ]
     },
     "execution_count": 43,
     "metadata": {},
     "output_type": "execute_result"
    }
   ],
   "source": [
    "⌣"
   ]
  },
  {
   "cell_type": "code",
   "execution_count": 44,
   "id": "japanese-palestine",
   "metadata": {},
   "outputs": [],
   "source": [
    "# ẋ x′"
   ]
  },
  {
   "cell_type": "code",
   "execution_count": 45,
   "id": "attractive-visitor",
   "metadata": {},
   "outputs": [
    {
     "data": {
      "text/plain": [
       "3602879701896397//36028797018963968"
      ]
     },
     "execution_count": 45,
     "metadata": {},
     "output_type": "execute_result"
    }
   ],
   "source": [
    "Rational(0.1)"
   ]
  },
  {
   "cell_type": "code",
   "execution_count": 46,
   "id": "extensive-nurse",
   "metadata": {},
   "outputs": [
    {
     "data": {
      "text/plain": [
       "5.551115123125783e-18"
      ]
     },
     "execution_count": 46,
     "metadata": {},
     "output_type": "execute_result"
    }
   ],
   "source": [
    "float(Rational(0.1) - 1//10)"
   ]
  },
  {
   "cell_type": "code",
   "execution_count": 47,
   "id": "genetic-columbia",
   "metadata": {},
   "outputs": [
    {
     "data": {
      "text/plain": [
       "π = 3.1415926535897..."
      ]
     },
     "execution_count": 47,
     "metadata": {},
     "output_type": "execute_result"
    }
   ],
   "source": [
    "π"
   ]
  },
  {
   "cell_type": "code",
   "execution_count": 48,
   "id": "peripheral-floating",
   "metadata": {},
   "outputs": [
    {
     "data": {
      "text/plain": [
       "3.141592653589793"
      ]
     },
     "execution_count": 48,
     "metadata": {},
     "output_type": "execute_result"
    }
   ],
   "source": [
    "Float64(π)"
   ]
  },
  {
   "cell_type": "code",
   "execution_count": 49,
   "id": "moderate-potato",
   "metadata": {},
   "outputs": [
    {
     "data": {
      "text/plain": [
       "3.141592653589793238462643383279502884197169399375105820974944592307816406286198"
      ]
     },
     "execution_count": 49,
     "metadata": {},
     "output_type": "execute_result"
    }
   ],
   "source": [
    "BigFloat(π)"
   ]
  },
  {
   "cell_type": "code",
   "execution_count": 50,
   "id": "eligible-addition",
   "metadata": {},
   "outputs": [
    {
     "data": {
      "text/plain": [
       "true"
      ]
     },
     "execution_count": 50,
     "metadata": {},
     "output_type": "execute_result"
    }
   ],
   "source": [
    "isapprox(1, 1.00001; atol=1e-3)"
   ]
  },
  {
   "cell_type": "code",
   "execution_count": 51,
   "id": "every-class",
   "metadata": {},
   "outputs": [
    {
     "data": {
      "text/plain": [
       "0.001"
      ]
     },
     "execution_count": 51,
     "metadata": {},
     "output_type": "execute_result"
    }
   ],
   "source": [
    "const tol = 1e-3"
   ]
  },
  {
   "cell_type": "code",
   "execution_count": 52,
   "id": "satellite-utility",
   "metadata": {},
   "outputs": [
    {
     "data": {
      "text/plain": [
       "myisapprox (generic function with 1 method)"
      ]
     },
     "execution_count": 52,
     "metadata": {},
     "output_type": "execute_result"
    }
   ],
   "source": [
    "myisapprox(a,b) = isapprox(a, b; atol=tol)"
   ]
  },
  {
   "cell_type": "code",
   "execution_count": 53,
   "id": "executive-numbers",
   "metadata": {},
   "outputs": [
    {
     "data": {
      "text/plain": [
       "true"
      ]
     },
     "execution_count": 53,
     "metadata": {},
     "output_type": "execute_result"
    }
   ],
   "source": [
    "myisapprox(1, 1.00001)"
   ]
  },
  {
   "cell_type": "markdown",
   "id": "considered-recycling",
   "metadata": {},
   "source": [
    "# Least Squares"
   ]
  },
  {
   "cell_type": "code",
   "execution_count": 100,
   "id": "buried-patio",
   "metadata": {},
   "outputs": [
    {
     "data": {
      "text/plain": [
       "10"
      ]
     },
     "execution_count": 100,
     "metadata": {},
     "output_type": "execute_result"
    }
   ],
   "source": [
    "# expansion coefficients\n",
    "pmax = 10"
   ]
  },
  {
   "cell_type": "code",
   "execution_count": 101,
   "id": "behavioral-carter",
   "metadata": {},
   "outputs": [
    {
     "data": {
      "text/plain": [
       "101-element LinRange{Float64, Int64}:\n",
       " 0.0,0.0628319,0.125664,0.188496,0.251327,…,6.09469,6.15752,6.22035,6.28319"
      ]
     },
     "execution_count": 101,
     "metadata": {},
     "output_type": "execute_result"
    }
   ],
   "source": [
    "# evaluation points\n",
    "npoints = 101\n",
    "x = LinRange(0, 2π, npoints)"
   ]
  },
  {
   "cell_type": "code",
   "execution_count": 118,
   "id": "invalid-corpus",
   "metadata": {},
   "outputs": [
    {
     "data": {
      "text/plain": [
       "fstar (generic function with 1 method)"
      ]
     },
     "execution_count": 118,
     "metadata": {},
     "output_type": "execute_result"
    }
   ],
   "source": [
    "# target function\n",
    "fstar(x) = sin(x)\n",
    "# fstar(x) = ifelse(x<1, 0, 1)"
   ]
  },
  {
   "cell_type": "code",
   "execution_count": 111,
   "id": "expanded-river",
   "metadata": {},
   "outputs": [
    {
     "data": {
      "text/plain": [
       "101×11 Matrix{Float64}:\n",
       " 1.0  0.0         0.0           0.0         …  0.0          0.0\n",
       " 1.0  0.0628319   0.00394784    0.00024805     1.52623e-11  9.58956e-13\n",
       " 1.0  0.125664    0.0157914     0.0019844      7.81428e-9   9.81971e-10\n",
       " 1.0  0.188496    0.0355306     0.00669736     3.00407e-7   5.66254e-8\n",
       " 1.0  0.251327    0.0631655     0.0158752      4.00091e-6   1.00554e-6\n",
       " 1.0  0.314159    0.098696      0.0310063   …  2.98091e-5   9.3648e-6\n",
       " 1.0  0.376991    0.142122      0.0535788      0.000153808  5.79844e-5\n",
       " 1.0  0.439823    0.193444      0.0850812      0.000615887  0.000270881\n",
       " 1.0  0.502655    0.252662      0.127002       0.00204847   0.00102967\n",
       " 1.0  0.565487    0.319775      0.180829       0.00591291   0.00334367\n",
       " 1.0  0.628319    0.394784      0.24805     …  0.0152623    0.00958956\n",
       " 1.0  0.69115     0.477689      0.330155       0.0359876    0.0248728\n",
       " 1.0  0.753982    0.568489      0.428631       0.0787499    0.059376\n",
       " ⋮                                          ⋱               ⋮\n",
       " 1.0  5.59203    31.2709      174.868          5.34723e6    2.99019e7\n",
       " 1.0  5.65487    31.9775      180.829       …  5.91291e6    3.34367e7\n",
       " 1.0  5.7177     32.6921      186.923          6.53118e6    3.73433e7\n",
       " 1.0  5.78053    33.4145      193.154          7.20625e6    4.16559e7\n",
       " 1.0  5.84336    34.1449      199.521          7.94265e6    4.64118e7\n",
       " 1.0  5.90619    34.8831      206.027          8.74519e6    5.16508e7\n",
       " 1.0  5.96903    35.6293      212.672       …  9.61903e6    5.74162e7\n",
       " 1.0  6.03186    36.3833      219.459          1.05696e7    6.37545e7\n",
       " 1.0  6.09469    37.1452      226.389          1.16028e7    7.07157e7\n",
       " 1.0  6.15752    37.9151      233.463          1.27249e7    7.83537e7\n",
       " 1.0  6.22035    38.6928      240.683          1.39423e7    8.67263e7\n",
       " 1.0  6.28319    39.4784      248.05        …  1.52623e7    9.58956e7"
      ]
     },
     "execution_count": 111,
     "metadata": {},
     "output_type": "execute_result"
    }
   ],
   "source": [
    "# matrix\n",
    "A = [x[i]^p for i in 1:npoints, p in 0:pmax]"
   ]
  },
  {
   "cell_type": "code",
   "execution_count": 112,
   "id": "genetic-mortality",
   "metadata": {},
   "outputs": [
    {
     "data": {
      "text/plain": [
       "101-element Vector{Int64}:\n",
       " 0\n",
       " 0\n",
       " 0\n",
       " 0\n",
       " 0\n",
       " 0\n",
       " 0\n",
       " 0\n",
       " 0\n",
       " 0\n",
       " 0\n",
       " 0\n",
       " 0\n",
       " ⋮\n",
       " 1\n",
       " 1\n",
       " 1\n",
       " 1\n",
       " 1\n",
       " 1\n",
       " 1\n",
       " 1\n",
       " 1\n",
       " 1\n",
       " 1\n",
       " 1"
      ]
     },
     "execution_count": 112,
     "metadata": {},
     "output_type": "execute_result"
    }
   ],
   "source": [
    "b = fstar.(x)"
   ]
  },
  {
   "cell_type": "code",
   "execution_count": 113,
   "id": "native-bookmark",
   "metadata": {},
   "outputs": [
    {
     "data": {
      "text/plain": [
       "11-element Vector{Float64}:\n",
       "  -0.027850745452162547\n",
       "   1.8421848159706482\n",
       " -13.005466490862151\n",
       "  30.072903298010026\n",
       " -31.22635329957057\n",
       "  17.9023240101014\n",
       "  -6.179214117504855\n",
       "   1.3188453042584352\n",
       "  -0.17058329821007884\n",
       "   0.012264717463928475\n",
       "  -0.0003763623849939136"
      ]
     },
     "execution_count": 113,
     "metadata": {},
     "output_type": "execute_result"
    }
   ],
   "source": [
    "c = (A'*A) \\ (A'*b)"
   ]
  },
  {
   "cell_type": "code",
   "execution_count": 114,
   "id": "printable-accessory",
   "metadata": {},
   "outputs": [
    {
     "data": {
      "text/plain": [
       "f (generic function with 1 method)"
      ]
     },
     "execution_count": 114,
     "metadata": {},
     "output_type": "execute_result"
    }
   ],
   "source": [
    "f(c, x) = sum(c[p+1] * x^p for p in 0:pmax)"
   ]
  },
  {
   "cell_type": "code",
   "execution_count": 115,
   "id": "initial-andorra",
   "metadata": {},
   "outputs": [],
   "source": [
    "using WGLMakie"
   ]
  },
  {
   "cell_type": "code",
   "execution_count": 116,
   "id": "wanted-summit",
   "metadata": {},
   "outputs": [
    {
     "data": {
      "text/html": [
       "<div id=\"b2c31aa9-f70e-4048-a7c8-8d2bfffe4b88\" data-jscall-id=\"jsserver-application-dom\">\n",
       "  <script data-jscall-id=\"46\" src=\"data:application/javascript;base64,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\" type=\"module\"></script>\n",
       "  <div data-jscall-id=\"44\">\n",
       "    <canvas data-jscall-id=\"43\" tabindex=\"0\"></canvas>\n",
       "  </div>\n",
       "</div>"
      ]
     },
     "execution_count": 116,
     "metadata": {},
     "output_type": "execute_result"
    }
   ],
   "source": [
    "fig = Figure()\n",
    "Axis(fig[1,1])\n",
    "xx = LinRange(0, 2π, 201)\n",
    "yy = [f(c,x) for x in xx]\n",
    "lines!(xx, fstar.(xx))\n",
    "lines!(xx, yy)\n",
    "scatter!(x, [f(c,x′) for x′ in x])\n",
    "fig"
   ]
  },
  {
   "cell_type": "code",
   "execution_count": 117,
   "id": "descending-command",
   "metadata": {},
   "outputs": [
    {
     "data": {
      "text/html": [
       "<div id=\"d7e2c8f3-7b9e-4009-acb2-16372e236917\" data-jscall-id=\"jsserver-application-dom\">\n",
       "  <script data-jscall-id=\"50\" src=\"data:application/javascript;base64,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\" type=\"module\"></script>\n",
       "  <div data-jscall-id=\"48\">\n",
       "    <canvas data-jscall-id=\"47\" tabindex=\"0\"></canvas>\n",
       "  </div>\n",
       "</div>"
      ]
     },
     "execution_count": 117,
     "metadata": {},
     "output_type": "execute_result"
    }
   ],
   "source": [
    "fig = Figure()\n",
    "Axis(fig[1,1])\n",
    "xx = LinRange(0, 2π, 201)\n",
    "yy = [f(c,x) - fstar(x) for x in xx]\n",
    "lines!(xx, yy)\n",
    "fig"
   ]
  },
  {
   "cell_type": "code",
   "execution_count": null,
   "id": "retained-stevens",
   "metadata": {},
   "outputs": [],
   "source": []
  },
  {
   "cell_type": "code",
   "execution_count": null,
   "id": "prompt-purple",
   "metadata": {},
   "outputs": [],
   "source": []
  },
  {
   "cell_type": "code",
   "execution_count": null,
   "id": "banner-disease",
   "metadata": {},
   "outputs": [],
   "source": []
  },
  {
   "cell_type": "code",
   "execution_count": null,
   "id": "correct-healing",
   "metadata": {},
   "outputs": [],
   "source": []
  },
  {
   "cell_type": "markdown",
   "id": "detailed-inspector",
   "metadata": {},
   "source": [
    "## Solving linear systems"
   ]
  },
  {
   "cell_type": "code",
   "execution_count": 59,
   "id": "super-vietnamese",
   "metadata": {},
   "outputs": [
    {
     "data": {
      "text/plain": [
       "10-element Vector{Float64}:\n",
       " -0.5767506008383114\n",
       "  0.18444428815123923\n",
       "  0.8672793379654672\n",
       "  1.6689889485333602\n",
       " -1.0875572368178728\n",
       " -0.18317050499982213\n",
       "  0.21234380495739322\n",
       " -2.182370791482697\n",
       "  1.5878191980893126\n",
       "  0.9642394668191557"
      ]
     },
     "execution_count": 59,
     "metadata": {},
     "output_type": "execute_result"
    }
   ],
   "source": [
    "A = randn(10,10)\n",
    "b = randn(10)"
   ]
  },
  {
   "cell_type": "code",
   "execution_count": 60,
   "id": "running-irrigation",
   "metadata": {},
   "outputs": [
    {
     "data": {
      "text/plain": [
       "0.6666666666666666"
      ]
     },
     "execution_count": 60,
     "metadata": {},
     "output_type": "execute_result"
    }
   ],
   "source": [
    "2 / 3"
   ]
  },
  {
   "cell_type": "code",
   "execution_count": 61,
   "id": "charitable-breast",
   "metadata": {},
   "outputs": [
    {
     "data": {
      "text/plain": [
       "1.5"
      ]
     },
     "execution_count": 61,
     "metadata": {},
     "output_type": "execute_result"
    }
   ],
   "source": [
    "2 \\ 3"
   ]
  },
  {
   "cell_type": "code",
   "execution_count": 62,
   "id": "combined-feeding",
   "metadata": {},
   "outputs": [
    {
     "data": {
      "text/plain": [
       "10-element Vector{Float64}:\n",
       " -0.38566938137961865\n",
       "  0.40807731154378574\n",
       "  0.7373493682294519\n",
       "  0.08632007030831569\n",
       " -0.42514487240116483\n",
       "  0.31384811859008055\n",
       "  0.2462259305829138\n",
       "  0.7155815311061249\n",
       " -1.2203707461343676\n",
       "  1.2959856448643272"
      ]
     },
     "execution_count": 62,
     "metadata": {},
     "output_type": "execute_result"
    }
   ],
   "source": [
    "x = A \\ b"
   ]
  },
  {
   "cell_type": "code",
   "execution_count": 63,
   "id": "basic-stamp",
   "metadata": {},
   "outputs": [
    {
     "data": {
      "text/plain": [
       "true"
      ]
     },
     "execution_count": 63,
     "metadata": {},
     "output_type": "execute_result"
    }
   ],
   "source": [
    "A * x ≈ b"
   ]
  },
  {
   "cell_type": "markdown",
   "id": "consecutive-given",
   "metadata": {},
   "source": [
    "## Matrix operations"
   ]
  },
  {
   "cell_type": "code",
   "execution_count": 119,
   "id": "tracked-deviation",
   "metadata": {},
   "outputs": [
    {
     "data": {
      "text/plain": [
       "10×10 Matrix{Float64}:\n",
       "  0.549126    0.0998721   0.703103   …  -0.551968  -1.32091   -0.464965\n",
       " -1.39443    -0.241709    0.79938        0.623637  -2.03644   -0.495334\n",
       "  0.274345    0.585941    1.30967        0.199725   0.310771   1.2959\n",
       "  0.390338   -0.243763   -0.0828302     -1.77996   -1.25528    0.165768\n",
       "  0.91283    -0.852078   -0.894069      -0.228502  -0.13873   -0.312594\n",
       "  1.01595     0.170565    1.13128    …  -1.72936    0.403166  -0.749271\n",
       " -1.50734    -0.337283    0.596123      -0.219408  -1.04985   -0.43931\n",
       " -2.08594     1.13756     0.912189      -0.161296  -0.929213   1.55072\n",
       " -0.0980929   1.55993     1.39427       -0.937104  -1.29233   -0.875121\n",
       "  0.557355    0.855606    0.32229       -1.43361    1.46757    0.738437"
      ]
     },
     "execution_count": 119,
     "metadata": {},
     "output_type": "execute_result"
    }
   ],
   "source": [
    "A = randn(10, 10)"
   ]
  },
  {
   "cell_type": "markdown",
   "id": "right-beatles",
   "metadata": {},
   "source": [
    "- LU decomposition\n",
    "- A = L * U"
   ]
  },
  {
   "cell_type": "code",
   "execution_count": 120,
   "id": "shared-identity",
   "metadata": {},
   "outputs": [
    {
     "data": {
      "text/plain": [
       "LU{Float64, Matrix{Float64}, Vector{Int64}}\n",
       "L factor:\n",
       "10×10 Matrix{Float64}:\n",
       "  1.0         0.0         0.0        0.0        …   0.0        0.0       0.0\n",
       "  0.0470257   1.0         0.0        0.0            0.0        0.0       0.0\n",
       "  0.668489   -0.665251    1.0        0.0            0.0        0.0       0.0\n",
       " -0.437611   -0.235171   -0.162671   1.0            0.0        0.0       0.0\n",
       " -0.487045    0.48101     0.850215   0.466776       0.0        0.0       0.0\n",
       " -0.187128   -0.0205075   0.106173   0.0753791  …   0.0        0.0       0.0\n",
       " -0.131521    0.488276    0.707151   0.440826       0.0        0.0       0.0\n",
       " -0.263251    0.265088    0.537397   0.265937       1.0        0.0       0.0\n",
       " -0.267196    0.769738   -0.435589  -0.389465      -0.721579   1.0       0.0\n",
       "  0.722617   -0.769569    0.897427  -0.344622       0.889132  -0.696761  1.0\n",
       "U factor:\n",
       "10×10 Matrix{Float64}:\n",
       " -2.08594  1.13756  0.912189  -1.8858    …  -0.161296  -0.929213    1.55072\n",
       "  0.0      1.50643  1.35137   -0.966995     -0.929519  -1.24863    -0.948045\n",
       "  0.0      0.0      1.08859    0.348853      0.113098  -2.24592    -2.16266\n",
       "  0.0      0.0      0.0       -1.84175      -0.499284  -1.20435    -0.208737\n",
       "  0.0      0.0      0.0        0.0          -1.22392    3.02288     2.39818\n",
       "  0.0      0.0      0.0        0.0       …  -1.7266    -1.31563     0.531045\n",
       "  0.0      0.0      0.0        0.0           1.78252    0.0392166   1.40899\n",
       "  0.0      0.0      0.0        0.0           1.07241   -2.08962    -1.02543\n",
       "  0.0      0.0      0.0        0.0           0.0       -1.37984     0.766969\n",
       "  0.0      0.0      0.0        0.0           0.0        0.0        -0.0571344"
      ]
     },
     "execution_count": 120,
     "metadata": {},
     "output_type": "execute_result"
    }
   ],
   "source": [
    "lu(A)"
   ]
  },
  {
   "cell_type": "code",
   "execution_count": 121,
   "id": "tracked-recall",
   "metadata": {},
   "outputs": [],
   "source": [
    "L = lu(A).L\n",
    "U = lu(A).U;"
   ]
  },
  {
   "cell_type": "code",
   "execution_count": 132,
   "id": "macro-tiffany",
   "metadata": {},
   "outputs": [
    {
     "data": {
      "text/plain": [
       "false"
      ]
     },
     "execution_count": 132,
     "metadata": {},
     "output_type": "execute_result"
    }
   ],
   "source": [
    "# Erik forgot to take the permutation into account, so this does not work!\n",
    "L * U ≈ A"
   ]
  },
  {
   "cell_type": "code",
   "execution_count": 125,
   "id": "peripheral-amendment",
   "metadata": {},
   "outputs": [
    {
     "data": {
      "text/plain": [
       "10×10 Matrix{Float64}:\n",
       "  0.549126    0.0998721   0.703103   …  -0.551968  -1.32091   -0.464965\n",
       " -1.39443    -0.241709    0.79938        0.623637  -2.03644   -0.495334\n",
       "  0.274345    0.585941    1.30967        0.199725   0.310771   1.2959\n",
       "  0.390338   -0.243763   -0.0828302     -1.77996   -1.25528    0.165768\n",
       "  0.91283    -0.852078   -0.894069      -0.228502  -0.13873   -0.312594\n",
       "  1.01595     0.170565    1.13128    …  -1.72936    0.403166  -0.749271\n",
       " -1.50734    -0.337283    0.596123      -0.219408  -1.04985   -0.43931\n",
       " -2.08594     1.13756     0.912189      -0.161296  -0.929213   1.55072\n",
       " -0.0980929   1.55993     1.39427       -0.937104  -1.29233   -0.875121\n",
       "  0.557355    0.855606    0.32229       -1.43361    1.46757    0.738437"
      ]
     },
     "execution_count": 125,
     "metadata": {},
     "output_type": "execute_result"
    }
   ],
   "source": [
    "A"
   ]
  },
  {
   "cell_type": "markdown",
   "id": "organized-happening",
   "metadata": {},
   "source": [
    "- QR factorization\n",
    "- A = Q * R"
   ]
  },
  {
   "cell_type": "code",
   "execution_count": 128,
   "id": "early-custom",
   "metadata": {},
   "outputs": [],
   "source": [
    "Q = qr(A).Q\n",
    "R = qr(A).R;"
   ]
  },
  {
   "cell_type": "code",
   "execution_count": 130,
   "id": "auburn-venture",
   "metadata": {},
   "outputs": [
    {
     "data": {
      "text/plain": [
       "true"
      ]
     },
     "execution_count": 130,
     "metadata": {},
     "output_type": "execute_result"
    }
   ],
   "source": [
    "Q * R ≈ A"
   ]
  },
  {
   "cell_type": "markdown",
   "id": "surface-hearing",
   "metadata": {},
   "source": [
    "## Linear Operators and Matrices"
   ]
  },
  {
   "cell_type": "code",
   "execution_count": 133,
   "id": "stock-roads",
   "metadata": {},
   "outputs": [],
   "source": [
    "using SparseArrays"
   ]
  },
  {
   "cell_type": "code",
   "execution_count": 135,
   "id": "acoustic-former",
   "metadata": {},
   "outputs": [
    {
     "data": {
      "text/plain": [
       "10×10 SparseMatrixCSC{Float64, Int64} with 8 stored entries:\n",
       "  ⋅          ⋅         ⋅    ⋅          ⋅   …   ⋅    ⋅    ⋅          ⋅ \n",
       "  ⋅          ⋅         ⋅    ⋅          ⋅       ⋅    ⋅    ⋅          ⋅ \n",
       "  ⋅          ⋅         ⋅    ⋅          ⋅       ⋅    ⋅    ⋅          ⋅ \n",
       " 0.949626    ⋅         ⋅    ⋅          ⋅       ⋅    ⋅    ⋅          ⋅ \n",
       "  ⋅          ⋅         ⋅    ⋅          ⋅       ⋅    ⋅   0.332341    ⋅ \n",
       "  ⋅          ⋅         ⋅    ⋅          ⋅   …   ⋅    ⋅    ⋅        -0.0662836\n",
       "  ⋅         1.14216    ⋅    ⋅          ⋅       ⋅    ⋅    ⋅          ⋅ \n",
       "  ⋅          ⋅         ⋅   0.0597499   ⋅       ⋅    ⋅    ⋅          ⋅ \n",
       "  ⋅        -0.315727   ⋅   0.219145    ⋅       ⋅    ⋅    ⋅          ⋅ \n",
       "  ⋅          ⋅         ⋅    ⋅          ⋅       ⋅    ⋅    ⋅          ⋅ "
      ]
     },
     "execution_count": 135,
     "metadata": {},
     "output_type": "execute_result"
    }
   ],
   "source": [
    "A = sprandn(10, 10, 1/10)"
   ]
  },
  {
   "cell_type": "code",
   "execution_count": 136,
   "id": "focal-married",
   "metadata": {},
   "outputs": [
    {
     "data": {
      "text/plain": [
       "10-element Vector{Float64}:\n",
       "  0.6044889383812975\n",
       " -1.1092870721813701\n",
       "  0.009836093063123235\n",
       "  0.4454329795176439\n",
       " -1.0580487773352096\n",
       " -0.3985351058403686\n",
       " -0.07137667894007606\n",
       "  1.1394964985927887\n",
       "  1.0092151420200306\n",
       "  0.12045628243628521"
      ]
     },
     "execution_count": 136,
     "metadata": {},
     "output_type": "execute_result"
    }
   ],
   "source": [
    "b = randn(10)"
   ]
  },
  {
   "cell_type": "code",
   "execution_count": 137,
   "id": "figured-handle",
   "metadata": {},
   "outputs": [
    {
     "data": {
      "text/plain": [
       "10-element Vector{Float64}:\n",
       "  0.0\n",
       "  0.0\n",
       "  0.0\n",
       "  0.5740385607762992\n",
       " -0.016058117404607386\n",
       " -0.007984277194682367\n",
       " -1.2669799298463944\n",
       "  0.026614553924395684\n",
       "  0.44784640280689647\n",
       "  0.0"
      ]
     },
     "execution_count": 137,
     "metadata": {},
     "output_type": "execute_result"
    }
   ],
   "source": [
    "A * b"
   ]
  },
  {
   "cell_type": "code",
   "execution_count": 138,
   "id": "gentle-culture",
   "metadata": {},
   "outputs": [
    {
     "data": {
      "text/plain": [
       "10×10 SparseMatrixCSC{Float64, Int64} with 27 stored entries:\n",
       " 0.90179     ⋅          ⋅   …  0.05674      0.208106     ⋅ \n",
       "  ⋅         1.40421     ⋅       ⋅            ⋅           ⋅ \n",
       "  ⋅          ⋅          ⋅       ⋅            ⋅           ⋅ \n",
       "  ⋅        -0.0691901   ⋅       ⋅            ⋅           ⋅ \n",
       "  ⋅        -0.104929    ⋅       ⋅            ⋅         -0.0584544\n",
       "  ⋅          ⋅          ⋅   …   ⋅           0.293086     ⋅ \n",
       "  ⋅          ⋅          ⋅       ⋅          -0.36061      ⋅ \n",
       " 0.05674     ⋅          ⋅      0.00357004   0.0130939    ⋅ \n",
       " 0.208106    ⋅          ⋅      0.0130939    0.258159     ⋅ \n",
       "  ⋅          ⋅          ⋅       ⋅            ⋅          0.00439352"
      ]
     },
     "execution_count": 138,
     "metadata": {},
     "output_type": "execute_result"
    }
   ],
   "source": [
    "A = (A + A')^2"
   ]
  },
  {
   "cell_type": "code",
   "execution_count": 140,
   "id": "instrumental-brooks",
   "metadata": {},
   "outputs": [
    {
     "data": {
      "text/plain": [
       "10-element Vector{Float64}:\n",
       " -4.65926389719694e-17\n",
       "  1.7883899018346986e-16\n",
       "  0.0004885358325410707\n",
       "  0.0004885358325412336\n",
       "  0.8388575250629489\n",
       "  0.8388575250629492\n",
       "  0.9719939170088447\n",
       "  0.9719939170088452\n",
       "  1.438812959105071\n",
       "  1.438812959105072"
      ]
     },
     "execution_count": 140,
     "metadata": {},
     "output_type": "execute_result"
    }
   ],
   "source": [
    "eigvals(Matrix(A))"
   ]
  },
  {
   "cell_type": "code",
   "execution_count": 142,
   "id": "brutal-concrete",
   "metadata": {},
   "outputs": [
    {
     "name": "stderr",
     "output_type": "stream",
     "text": [
      "\u001b[32m\u001b[1m    Updating\u001b[22m\u001b[39m registry at `~/.julia/registries/General`\n",
      "\u001b[32m\u001b[1m    Updating\u001b[22m\u001b[39m git-repo `https://github.com/JuliaRegistries/General.git`\n",
      "\u001b[32m\u001b[1m   Resolving\u001b[22m\u001b[39m package versions...\n",
      "\u001b[32m\u001b[1m   Installed\u001b[22m\u001b[39m Arpack_jll ─ v3.5.1+1\n",
      "\u001b[32m\u001b[1m   Installed\u001b[22m\u001b[39m Arpack ───── v0.5.4\n",
      "\u001b[32m\u001b[1m    Updating\u001b[22m\u001b[39m `~/.julia/environments/v1.8/Project.toml`\n",
      " \u001b[90m [7d9fca2a] \u001b[39m\u001b[92m+ Arpack v0.5.4\u001b[39m\n",
      "\u001b[32m\u001b[1m    Updating\u001b[22m\u001b[39m `~/.julia/environments/v1.8/Manifest.toml`\n",
      " \u001b[90m [7d9fca2a] \u001b[39m\u001b[92m+ Arpack v0.5.4\u001b[39m\n",
      "\u001b[33m⌅\u001b[39m\u001b[90m [68821587] \u001b[39m\u001b[92m+ Arpack_jll v3.5.1+1\u001b[39m\n",
      "\u001b[36m\u001b[1m        Info\u001b[22m\u001b[39m Packages marked with \u001b[33m⌅\u001b[39m have new versions available but compatibility constraints restrict them from upgrading. To see why use `status --outdated -m`\n",
      "\u001b[32m\u001b[1mPrecompiling\u001b[22m\u001b[39m project...\n",
      "\u001b[32m  ✓ \u001b[39m\u001b[90mArpack_jll\u001b[39m\n",
      "\u001b[32m  ✓ \u001b[39mArpack\n",
      "  2 dependencies successfully precompiled in 8 seconds. 321 already precompiled.\n"
     ]
    }
   ],
   "source": [
    "]add Arpack"
   ]
  },
  {
   "cell_type": "code",
   "execution_count": 143,
   "id": "colonial-worse",
   "metadata": {},
   "outputs": [],
   "source": [
    "using Arpack"
   ]
  },
  {
   "cell_type": "code",
   "execution_count": 145,
   "id": "fundamental-magazine",
   "metadata": {},
   "outputs": [
    {
     "data": {
      "text/plain": [
       "([1.4388129591050731, 1.438812959105072, 0.9719939170088449, 0.9719939170088447], [0.023697482326410984 0.13119258909936157 -0.5585125933750877 0.6064094335997046; 0.9483946462451319 -0.17130971743255438 0.18175674730054 0.1674008131694976; … ; 0.06074539648543878 0.33629504311983643 -0.17883110602455057 0.1941672775165645; 0.008293760376759702 -0.001498112365164885 -0.02014935660515325 -0.01855787325995381], 4, 1, 10, [0.0, 0.0, 0.0, 0.0, 0.0, 0.0, 0.0, 0.0, 0.0, 0.0])"
      ]
     },
     "execution_count": 145,
     "metadata": {},
     "output_type": "execute_result"
    }
   ],
   "source": [
    "eigs(A; nev=4)"
   ]
  },
  {
   "cell_type": "code",
   "execution_count": 146,
   "id": "english-session",
   "metadata": {},
   "outputs": [
    {
     "data": {
      "text/plain": [
       "1000000×1000000 SparseMatrixCSC{Float64, Int64} with 1000135 stored entries:\n",
       "⣿⣿⣿⣿⣿⣿⣿⣿⣿⣿⣿⣿⣿⣿⣿⣿⣿⣿⣿⣿⣿⣿⣿⣿⣿⣿⣿⣿⣿⣿⣿⣿⣿⣿⣿⣿⣿⣿⣿⣿\n",
       "⣿⣿⣿⣿⣿⣿⣿⣿⣿⣿⣿⣿⣿⣿⣿⣿⣿⣿⣿⣿⣿⣿⣿⣿⣿⣿⣿⣿⣿⣿⣿⣿⣿⣿⣿⣿⣿⣿⣿⣿\n",
       "⣿⣿⣿⣿⣿⣿⣿⣿⣿⣿⣿⣿⣿⣿⣿⣿⣿⣿⣿⣿⣿⣿⣿⣿⣿⣿⣿⣿⣿⣿⣿⣿⣿⣿⣿⣿⣿⣿⣿⣿\n",
       "⣿⣿⣿⣿⣿⣿⣿⣿⣿⣿⣿⣿⣿⣿⣿⣿⣿⣿⣿⣿⣿⣿⣿⣿⣿⣿⣿⣿⣿⣿⣿⣿⣿⣿⣿⣿⣿⣿⣿⣿\n",
       "⣿⣿⣿⣿⣿⣿⣿⣿⣿⣿⣿⣿⣿⣿⣿⣿⣿⣿⣿⣿⣿⣿⣿⣿⣿⣿⣿⣿⣿⣿⣿⣿⣿⣿⣿⣿⣿⣿⣿⣿\n",
       "⣿⣿⣿⣿⣿⣿⣿⣿⣿⣿⣿⣿⣿⣿⣿⣿⣿⣿⣿⣿⣿⣿⣿⣿⣿⣿⣿⣿⣿⣿⣿⣿⣿⣿⣿⣿⣿⣿⣿⣿\n",
       "⣿⣿⣿⣿⣿⣿⣿⣿⣿⣿⣿⣿⣿⣿⣿⣿⣿⣿⣿⣿⣿⣿⣿⣿⣿⣿⣿⣿⣿⣿⣿⣿⣿⣿⣿⣿⣿⣿⣿⣿\n",
       "⣿⣿⣿⣿⣿⣿⣿⣿⣿⣿⣿⣿⣿⣿⣿⣿⣿⣿⣿⣿⣿⣿⣿⣿⣿⣿⣿⣿⣿⣿⣿⣿⣿⣿⣿⣿⣿⣿⣿⣿\n",
       "⣿⣿⣿⣿⣿⣿⣿⣿⣿⣿⣿⣿⣿⣿⣿⣿⣿⣿⣿⣿⣿⣿⣿⣿⣿⣿⣿⣿⣿⣿⣿⣿⣿⣿⣿⣿⣿⣿⣿⣿\n",
       "⣿⣿⣿⣿⣿⣿⣿⣿⣿⣿⣿⣿⣿⣿⣿⣿⣿⣿⣿⣿⣿⣿⣿⣿⣿⣿⣿⣿⣿⣿⣿⣿⣿⣿⣿⣿⣿⣿⣿⣿\n",
       "⣿⣿⣿⣿⣿⣿⣿⣿⣿⣿⣿⣿⣿⣿⣿⣿⣿⣿⣿⣿⣿⣿⣿⣿⣿⣿⣿⣿⣿⣿⣿⣿⣿⣿⣿⣿⣿⣿⣿⣿\n",
       "⣿⣿⣿⣿⣿⣿⣿⣿⣿⣿⣿⣿⣿⣿⣿⣿⣿⣿⣿⣿⣿⣿⣿⣿⣿⣿⣿⣿⣿⣿⣿⣿⣿⣿⣿⣿⣿⣿⣿⣿\n",
       "⣿⣿⣿⣿⣿⣿⣿⣿⣿⣿⣿⣿⣿⣿⣿⣿⣿⣿⣿⣿⣿⣿⣿⣿⣿⣿⣿⣿⣿⣿⣿⣿⣿⣿⣿⣿⣿⣿⣿⣿\n",
       "⣿⣿⣿⣿⣿⣿⣿⣿⣿⣿⣿⣿⣿⣿⣿⣿⣿⣿⣿⣿⣿⣿⣿⣿⣿⣿⣿⣿⣿⣿⣿⣿⣿⣿⣿⣿⣿⣿⣿⣿\n",
       "⣿⣿⣿⣿⣿⣿⣿⣿⣿⣿⣿⣿⣿⣿⣿⣿⣿⣿⣿⣿⣿⣿⣿⣿⣿⣿⣿⣿⣿⣿⣿⣿⣿⣿⣿⣿⣿⣿⣿⣿\n",
       "⣿⣿⣿⣿⣿⣿⣿⣿⣿⣿⣿⣿⣿⣿⣿⣿⣿⣿⣿⣿⣿⣿⣿⣿⣿⣿⣿⣿⣿⣿⣿⣿⣿⣿⣿⣿⣿⣿⣿⣿\n",
       "⣿⣿⣿⣿⣿⣿⣿⣿⣿⣿⣿⣿⣿⣿⣿⣿⣿⣿⣿⣿⣿⣿⣿⣿⣿⣿⣿⣿⣿⣿⣿⣿⣿⣿⣿⣿⣿⣿⣿⣿\n",
       "⣿⣿⣿⣿⣿⣿⣿⣿⣿⣿⣿⣿⣿⣿⣿⣿⣿⣿⣿⣿⣿⣿⣿⣿⣿⣿⣿⣿⣿⣿⣿⣿⣿⣿⣿⣿⣿⣿⣿⣿\n",
       "⣿⣿⣿⣿⣿⣿⣿⣿⣿⣿⣿⣿⣿⣿⣿⣿⣿⣿⣿⣿⣿⣿⣿⣿⣿⣿⣿⣿⣿⣿⣿⣿⣿⣿⣿⣿⣿⣿⣿⣿\n",
       "⣿⣿⣿⣿⣿⣿⣿⣿⣿⣿⣿⣿⣿⣿⣿⣿⣿⣿⣿⣿⣿⣿⣿⣿⣿⣿⣿⣿⣿⣿⣿⣿⣿⣿⣿⣿⣿⣿⣿⣿"
      ]
     },
     "execution_count": 146,
     "metadata": {},
     "output_type": "execute_result"
    }
   ],
   "source": [
    "A = sprandn(10^6, 10^6, 10^-6)"
   ]
  },
  {
   "cell_type": "code",
   "execution_count": 148,
   "id": "accessible-conducting",
   "metadata": {},
   "outputs": [
    {
     "data": {
      "text/plain": [
       "1000000×1000000 SparseMatrixCSC{Float64, Int64} with 4861940 stored entries:\n",
       "⣿⣿⣿⣿⣿⣿⣿⣿⣿⣿⣿⣿⣿⣿⣿⣿⣿⣿⣿⣿⣿⣿⣿⣿⣿⣿⣿⣿⣿⣿⣿⣿⣿⣿⣿⣿⣿⣿⣿⣿\n",
       "⣿⣿⣿⣿⣿⣿⣿⣿⣿⣿⣿⣿⣿⣿⣿⣿⣿⣿⣿⣿⣿⣿⣿⣿⣿⣿⣿⣿⣿⣿⣿⣿⣿⣿⣿⣿⣿⣿⣿⣿\n",
       "⣿⣿⣿⣿⣿⣿⣿⣿⣿⣿⣿⣿⣿⣿⣿⣿⣿⣿⣿⣿⣿⣿⣿⣿⣿⣿⣿⣿⣿⣿⣿⣿⣿⣿⣿⣿⣿⣿⣿⣿\n",
       "⣿⣿⣿⣿⣿⣿⣿⣿⣿⣿⣿⣿⣿⣿⣿⣿⣿⣿⣿⣿⣿⣿⣿⣿⣿⣿⣿⣿⣿⣿⣿⣿⣿⣿⣿⣿⣿⣿⣿⣿\n",
       "⣿⣿⣿⣿⣿⣿⣿⣿⣿⣿⣿⣿⣿⣿⣿⣿⣿⣿⣿⣿⣿⣿⣿⣿⣿⣿⣿⣿⣿⣿⣿⣿⣿⣿⣿⣿⣿⣿⣿⣿\n",
       "⣿⣿⣿⣿⣿⣿⣿⣿⣿⣿⣿⣿⣿⣿⣿⣿⣿⣿⣿⣿⣿⣿⣿⣿⣿⣿⣿⣿⣿⣿⣿⣿⣿⣿⣿⣿⣿⣿⣿⣿\n",
       "⣿⣿⣿⣿⣿⣿⣿⣿⣿⣿⣿⣿⣿⣿⣿⣿⣿⣿⣿⣿⣿⣿⣿⣿⣿⣿⣿⣿⣿⣿⣿⣿⣿⣿⣿⣿⣿⣿⣿⣿\n",
       "⣿⣿⣿⣿⣿⣿⣿⣿⣿⣿⣿⣿⣿⣿⣿⣿⣿⣿⣿⣿⣿⣿⣿⣿⣿⣿⣿⣿⣿⣿⣿⣿⣿⣿⣿⣿⣿⣿⣿⣿\n",
       "⣿⣿⣿⣿⣿⣿⣿⣿⣿⣿⣿⣿⣿⣿⣿⣿⣿⣿⣿⣿⣿⣿⣿⣿⣿⣿⣿⣿⣿⣿⣿⣿⣿⣿⣿⣿⣿⣿⣿⣿\n",
       "⣿⣿⣿⣿⣿⣿⣿⣿⣿⣿⣿⣿⣿⣿⣿⣿⣿⣿⣿⣿⣿⣿⣿⣿⣿⣿⣿⣿⣿⣿⣿⣿⣿⣿⣿⣿⣿⣿⣿⣿\n",
       "⣿⣿⣿⣿⣿⣿⣿⣿⣿⣿⣿⣿⣿⣿⣿⣿⣿⣿⣿⣿⣿⣿⣿⣿⣿⣿⣿⣿⣿⣿⣿⣿⣿⣿⣿⣿⣿⣿⣿⣿\n",
       "⣿⣿⣿⣿⣿⣿⣿⣿⣿⣿⣿⣿⣿⣿⣿⣿⣿⣿⣿⣿⣿⣿⣿⣿⣿⣿⣿⣿⣿⣿⣿⣿⣿⣿⣿⣿⣿⣿⣿⣿\n",
       "⣿⣿⣿⣿⣿⣿⣿⣿⣿⣿⣿⣿⣿⣿⣿⣿⣿⣿⣿⣿⣿⣿⣿⣿⣿⣿⣿⣿⣿⣿⣿⣿⣿⣿⣿⣿⣿⣿⣿⣿\n",
       "⣿⣿⣿⣿⣿⣿⣿⣿⣿⣿⣿⣿⣿⣿⣿⣿⣿⣿⣿⣿⣿⣿⣿⣿⣿⣿⣿⣿⣿⣿⣿⣿⣿⣿⣿⣿⣿⣿⣿⣿\n",
       "⣿⣿⣿⣿⣿⣿⣿⣿⣿⣿⣿⣿⣿⣿⣿⣿⣿⣿⣿⣿⣿⣿⣿⣿⣿⣿⣿⣿⣿⣿⣿⣿⣿⣿⣿⣿⣿⣿⣿⣿\n",
       "⣿⣿⣿⣿⣿⣿⣿⣿⣿⣿⣿⣿⣿⣿⣿⣿⣿⣿⣿⣿⣿⣿⣿⣿⣿⣿⣿⣿⣿⣿⣿⣿⣿⣿⣿⣿⣿⣿⣿⣿\n",
       "⣿⣿⣿⣿⣿⣿⣿⣿⣿⣿⣿⣿⣿⣿⣿⣿⣿⣿⣿⣿⣿⣿⣿⣿⣿⣿⣿⣿⣿⣿⣿⣿⣿⣿⣿⣿⣿⣿⣿⣿\n",
       "⣿⣿⣿⣿⣿⣿⣿⣿⣿⣿⣿⣿⣿⣿⣿⣿⣿⣿⣿⣿⣿⣿⣿⣿⣿⣿⣿⣿⣿⣿⣿⣿⣿⣿⣿⣿⣿⣿⣿⣿\n",
       "⣿⣿⣿⣿⣿⣿⣿⣿⣿⣿⣿⣿⣿⣿⣿⣿⣿⣿⣿⣿⣿⣿⣿⣿⣿⣿⣿⣿⣿⣿⣿⣿⣿⣿⣿⣿⣿⣿⣿⣿\n",
       "⣿⣿⣿⣿⣿⣿⣿⣿⣿⣿⣿⣿⣿⣿⣿⣿⣿⣿⣿⣿⣿⣿⣿⣿⣿⣿⣿⣿⣿⣿⣿⣿⣿⣿⣿⣿⣿⣿⣿⣿"
      ]
     },
     "execution_count": 148,
     "metadata": {},
     "output_type": "execute_result"
    }
   ],
   "source": [
    "A = (A + A')^2"
   ]
  },
  {
   "cell_type": "code",
   "execution_count": 149,
   "id": "offensive-hungary",
   "metadata": {},
   "outputs": [
    {
     "data": {
      "text/plain": [
       "([33.334526522335864, 33.33452652233579, 32.76803232922468, 32.76803232836849, 32.147098306593044, 32.14709830658906, 31.21063725807284, 31.21063725807278, 31.130768969638165, 31.130768969638073], [-1.1052537336605151e-16 7.219258512980826e-18 … -4.2164421357702855e-17 3.113571609582585e-16; -1.6905562555223892e-16 1.2367896265109581e-16 … 2.20773857970716e-17 -1.2097844626327715e-18; … ; 5.695284603563285e-16 3.030319550512735e-17 … -9.170270374155808e-16 1.5433158417106811e-15; -4.413729363592221e-16 4.7482891401492066e-15 … 2.2126535956227744e-16 -5.696207458926047e-15], 10, 34, 277, [0.0003003455533070884, -0.0021652220582194103, 0.0045355242899022975, 0.007398656959670783, -0.005356622976878885, 0.0007675647359153757, -0.00012144900701438543, -5.3605325191419026e-5, 0.0018973066141221705, -0.0002945052180428473  …  -0.00043990979958500866, 0.002034521326187796, -0.011485548657721995, 0.0010688250160229738, -2.4715069258551916e-5, -0.000882669246324071, -0.000507952775237697, -0.00043411547038291995, -0.00010333566315393626, -0.0009046859506636383])"
      ]
     },
     "execution_count": 149,
     "metadata": {},
     "output_type": "execute_result"
    }
   ],
   "source": [
    "eigs(A; nev=10)"
   ]
  },
  {
   "cell_type": "code",
   "execution_count": null,
   "id": "nervous-average",
   "metadata": {},
   "outputs": [],
   "source": []
  }
 ],
 "metadata": {
  "kernelspec": {
   "display_name": "Julia 1.8.5",
   "language": "julia",
   "name": "julia-1.8"
  },
  "language_info": {
   "file_extension": ".jl",
   "mimetype": "application/julia",
   "name": "julia",
   "version": "1.8.5"
  }
 },
 "nbformat": 4,
 "nbformat_minor": 5
}
